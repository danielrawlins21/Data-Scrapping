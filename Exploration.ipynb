{
 "cells": [
  {
   "cell_type": "code",
   "execution_count": 1,
   "metadata": {},
   "outputs": [],
   "source": [
    "import numpy as np \n",
    "import pandas as pd \n",
    "import matplotlib.pyplot as plt \n",
    "import seaborn as sns\n",
    "\n",
    "from wordcloud import WordCloud"
   ]
  },
  {
   "cell_type": "code",
   "execution_count": 4,
   "metadata": {},
   "outputs": [],
   "source": [
    "dataset = pd.read_csv(\"PlanillaC.csv\",sep=';')"
   ]
  },
  {
   "cell_type": "code",
   "execution_count": 5,
   "metadata": {},
   "outputs": [
    {
     "data": {
      "text/html": [
       "<div>\n",
       "<style scoped>\n",
       "    .dataframe tbody tr th:only-of-type {\n",
       "        vertical-align: middle;\n",
       "    }\n",
       "\n",
       "    .dataframe tbody tr th {\n",
       "        vertical-align: top;\n",
       "    }\n",
       "\n",
       "    .dataframe thead th {\n",
       "        text-align: right;\n",
       "    }\n",
       "</style>\n",
       "<table border=\"1\" class=\"dataframe\">\n",
       "  <thead>\n",
       "    <tr style=\"text-align: right;\">\n",
       "      <th></th>\n",
       "      <th>nombre</th>\n",
       "      <th>apellido</th>\n",
       "      <th>genero</th>\n",
       "      <th>posicion</th>\n",
       "      <th>cedula</th>\n",
       "      <th>cargo</th>\n",
       "      <th>codigoCargo</th>\n",
       "      <th>salarioMensual</th>\n",
       "      <th>sobresueldo</th>\n",
       "      <th>inicioLaboral</th>\n",
       "      <th>objetoGastos</th>\n",
       "      <th>estatus</th>\n",
       "    </tr>\n",
       "  </thead>\n",
       "  <tbody>\n",
       "    <tr>\n",
       "      <th>0</th>\n",
       "      <td>AARON JOSUE</td>\n",
       "      <td>MEDINA</td>\n",
       "      <td>M</td>\n",
       "      <td>43192.0</td>\n",
       "      <td>8-0919-00412</td>\n",
       "      <td>ESTADISTICO CENSAL I</td>\n",
       "      <td>41091.0</td>\n",
       "      <td>700.0</td>\n",
       "      <td>0.0</td>\n",
       "      <td>01/08/2023</td>\n",
       "      <td>2.0</td>\n",
       "      <td>EVENTUAL</td>\n",
       "    </tr>\n",
       "    <tr>\n",
       "      <th>1</th>\n",
       "      <td>ABDEL</td>\n",
       "      <td>BATISTA</td>\n",
       "      <td>M</td>\n",
       "      <td>4591.0</td>\n",
       "      <td>9-0712-01688</td>\n",
       "      <td>CONDUCTOR DE VEHICULO   I</td>\n",
       "      <td>6034011.0</td>\n",
       "      <td>837.0</td>\n",
       "      <td>0.0</td>\n",
       "      <td>17/10/2011</td>\n",
       "      <td>1.0</td>\n",
       "      <td>PERMANENTE</td>\n",
       "    </tr>\n",
       "    <tr>\n",
       "      <th>2</th>\n",
       "      <td>ABDEL JABBAR</td>\n",
       "      <td>ARCIA</td>\n",
       "      <td>M</td>\n",
       "      <td>6053.0</td>\n",
       "      <td>8-0806-01206</td>\n",
       "      <td>AUDITOR FISCAL III</td>\n",
       "      <td>55023.0</td>\n",
       "      <td>1198.0</td>\n",
       "      <td>0.0</td>\n",
       "      <td>04/05/2022</td>\n",
       "      <td>1.0</td>\n",
       "      <td>PERMANENTE</td>\n",
       "    </tr>\n",
       "    <tr>\n",
       "      <th>3</th>\n",
       "      <td>ABDIEL</td>\n",
       "      <td>ESPINOSA</td>\n",
       "      <td>M</td>\n",
       "      <td>4785.0</td>\n",
       "      <td>9-0731-00875</td>\n",
       "      <td>ESTADISTICO II</td>\n",
       "      <td>41022.0</td>\n",
       "      <td>1548.0</td>\n",
       "      <td>0.0</td>\n",
       "      <td>16/04/2013</td>\n",
       "      <td>1.0</td>\n",
       "      <td>PERMANENTE</td>\n",
       "    </tr>\n",
       "    <tr>\n",
       "      <th>4</th>\n",
       "      <td>ABDIEL</td>\n",
       "      <td>OLIVARDIA</td>\n",
       "      <td>M</td>\n",
       "      <td>38112.0</td>\n",
       "      <td>8-0718-01099</td>\n",
       "      <td>TECNICO EN REPARACION DE EQUIPO DE  COMUNICACI...</td>\n",
       "      <td>6012310.0</td>\n",
       "      <td>1300.0</td>\n",
       "      <td>0.0</td>\n",
       "      <td>03/01/2023</td>\n",
       "      <td>2.0</td>\n",
       "      <td>EVENTUAL</td>\n",
       "    </tr>\n",
       "  </tbody>\n",
       "</table>\n",
       "</div>"
      ],
      "text/plain": [
       "                 nombre         apellido genero  posicion        cedula  \\\n",
       "0  AARON JOSUE           MEDINA               M   43192.0  8-0919-00412   \n",
       "1  ABDEL                 BATISTA              M    4591.0  9-0712-01688   \n",
       "2  ABDEL JABBAR          ARCIA                M    6053.0  8-0806-01206   \n",
       "3  ABDIEL                ESPINOSA             M    4785.0  9-0731-00875   \n",
       "4  ABDIEL                OLIVARDIA            M   38112.0  8-0718-01099   \n",
       "\n",
       "                                               cargo  codigoCargo  \\\n",
       "0                               ESTADISTICO CENSAL I      41091.0   \n",
       "1                          CONDUCTOR DE VEHICULO   I    6034011.0   \n",
       "2                                 AUDITOR FISCAL III      55023.0   \n",
       "3                                     ESTADISTICO II      41022.0   \n",
       "4  TECNICO EN REPARACION DE EQUIPO DE  COMUNICACI...    6012310.0   \n",
       "\n",
       "   salarioMensual  sobresueldo inicioLaboral  objetoGastos     estatus  \n",
       "0           700.0          0.0    01/08/2023           2.0    EVENTUAL  \n",
       "1           837.0          0.0    17/10/2011           1.0  PERMANENTE  \n",
       "2          1198.0          0.0    04/05/2022           1.0  PERMANENTE  \n",
       "3          1548.0          0.0    16/04/2013           1.0  PERMANENTE  \n",
       "4          1300.0          0.0    03/01/2023           2.0    EVENTUAL  "
      ]
     },
     "execution_count": 5,
     "metadata": {},
     "output_type": "execute_result"
    }
   ],
   "source": [
    "dataset.head()"
   ]
  },
  {
   "cell_type": "code",
   "execution_count": 7,
   "metadata": {},
   "outputs": [
    {
     "name": "stdout",
     "output_type": "stream",
     "text": [
      "Index(['nombre', 'apellido', 'genero', 'posicion', 'cedula', 'cargo',\n",
      "       'codigoCargo', 'salarioMensual', 'sobresueldo', 'inicioLaboral',\n",
      "       'objetoGastos', 'estatus'],\n",
      "      dtype='object')\n"
     ]
    }
   ],
   "source": [
    "print(dataset.columns)"
   ]
  },
  {
   "cell_type": "code",
   "execution_count": 8,
   "metadata": {},
   "outputs": [
    {
     "name": "stdout",
     "output_type": "stream",
     "text": [
      "nombre             object\n",
      "apellido           object\n",
      "genero             object\n",
      "posicion          float64\n",
      "cedula             object\n",
      "cargo              object\n",
      "codigoCargo       float64\n",
      "salarioMensual    float64\n",
      "sobresueldo       float64\n",
      "inicioLaboral      object\n",
      "objetoGastos      float64\n",
      "estatus            object\n",
      "dtype: object\n"
     ]
    }
   ],
   "source": [
    "print(dataset.dtypes)"
   ]
  },
  {
   "cell_type": "code",
   "execution_count": 9,
   "metadata": {},
   "outputs": [
    {
     "data": {
      "text/plain": [
       "array([['AARON JOSUE         ', 'MEDINA         ', 'M', ...,\n",
       "        '01/08/2023', 2.0, 'EVENTUAL'],\n",
       "       ['ABDEL               ', 'BATISTA        ', 'M', ...,\n",
       "        '17/10/2011', 1.0, 'PERMANENTE'],\n",
       "       ['ABDEL JABBAR        ', 'ARCIA          ', 'M', ...,\n",
       "        '04/05/2022', 1.0, 'PERMANENTE'],\n",
       "       ...,\n",
       "       [nan, nan, nan, ..., nan, nan, nan],\n",
       "       [nan, nan, nan, ..., nan, nan, nan],\n",
       "       [nan, nan, nan, ..., nan, nan, nan]], dtype=object)"
      ]
     },
     "execution_count": 9,
     "metadata": {},
     "output_type": "execute_result"
    }
   ],
   "source": [
    "dataset.values"
   ]
  },
  {
   "cell_type": "code",
   "execution_count": 10,
   "metadata": {},
   "outputs": [
    {
     "data": {
      "text/plain": [
       "[RangeIndex(start=0, stop=4838, step=1),\n",
       " Index(['nombre', 'apellido', 'genero', 'posicion', 'cedula', 'cargo',\n",
       "        'codigoCargo', 'salarioMensual', 'sobresueldo', 'inicioLaboral',\n",
       "        'objetoGastos', 'estatus'],\n",
       "       dtype='object')]"
      ]
     },
     "execution_count": 10,
     "metadata": {},
     "output_type": "execute_result"
    }
   ],
   "source": [
    "dataset.axes"
   ]
  },
  {
   "cell_type": "code",
   "execution_count": 14,
   "metadata": {},
   "outputs": [
    {
     "name": "stdout",
     "output_type": "stream",
     "text": [
      "2\n",
      "58056\n",
      "(4838, 12)\n"
     ]
    }
   ],
   "source": [
    "print(dataset.ndim)\n",
    "print(dataset.size)\n",
    "print(dataset.shape)"
   ]
  },
  {
   "cell_type": "code",
   "execution_count": 15,
   "metadata": {},
   "outputs": [
    {
     "data": {
      "text/plain": [
       "'OLIVARDIA      '"
      ]
     },
     "execution_count": 15,
     "metadata": {},
     "output_type": "execute_result"
    }
   ],
   "source": [
    "dataset.at[4,'apellido']"
   ]
  },
  {
   "cell_type": "code",
   "execution_count": 16,
   "metadata": {},
   "outputs": [
    {
     "data": {
      "text/plain": [
       "nombre                                         ABDIEL              \n",
       "apellido                                            OLIVARDIA      \n",
       "genero                                                            M\n",
       "posicion                                                    38112.0\n",
       "cedula                                                 8-0718-01099\n",
       "cargo             TECNICO EN REPARACION DE EQUIPO DE  COMUNICACI...\n",
       "codigoCargo                                               6012310.0\n",
       "salarioMensual                                               1300.0\n",
       "sobresueldo                                                     0.0\n",
       "inicioLaboral                                            03/01/2023\n",
       "objetoGastos                                                    2.0\n",
       "estatus                                                    EVENTUAL\n",
       "Name: 4, dtype: object"
      ]
     },
     "execution_count": 16,
     "metadata": {},
     "output_type": "execute_result"
    }
   ],
   "source": [
    "dataset.loc[4]"
   ]
  },
  {
   "cell_type": "code",
   "execution_count": 17,
   "metadata": {},
   "outputs": [
    {
     "data": {
      "text/html": [
       "<div>\n",
       "<style scoped>\n",
       "    .dataframe tbody tr th:only-of-type {\n",
       "        vertical-align: middle;\n",
       "    }\n",
       "\n",
       "    .dataframe tbody tr th {\n",
       "        vertical-align: top;\n",
       "    }\n",
       "\n",
       "    .dataframe thead th {\n",
       "        text-align: right;\n",
       "    }\n",
       "</style>\n",
       "<table border=\"1\" class=\"dataframe\">\n",
       "  <thead>\n",
       "    <tr style=\"text-align: right;\">\n",
       "      <th></th>\n",
       "      <th>nombre</th>\n",
       "      <th>apellido</th>\n",
       "      <th>genero</th>\n",
       "      <th>posicion</th>\n",
       "      <th>cedula</th>\n",
       "      <th>cargo</th>\n",
       "      <th>codigoCargo</th>\n",
       "      <th>salarioMensual</th>\n",
       "      <th>sobresueldo</th>\n",
       "      <th>inicioLaboral</th>\n",
       "      <th>objetoGastos</th>\n",
       "      <th>estatus</th>\n",
       "    </tr>\n",
       "  </thead>\n",
       "  <tbody>\n",
       "    <tr>\n",
       "      <th>6</th>\n",
       "      <td>ABDIEL A</td>\n",
       "      <td>SOTO M</td>\n",
       "      <td>M</td>\n",
       "      <td>1258.0</td>\n",
       "      <td>8-0498-00271</td>\n",
       "      <td>ANALISTA DEL SISTEMA DE CONTABILIDAD GUBERNAME...</td>\n",
       "      <td>52012.0</td>\n",
       "      <td>1844.00</td>\n",
       "      <td>0.0</td>\n",
       "      <td>21/02/1995</td>\n",
       "      <td>1.0</td>\n",
       "      <td>PERMANENTE</td>\n",
       "    </tr>\n",
       "    <tr>\n",
       "      <th>10</th>\n",
       "      <td>ABDIEL E</td>\n",
       "      <td>ROMERO</td>\n",
       "      <td>M</td>\n",
       "      <td>497.0</td>\n",
       "      <td>8-0480-00091</td>\n",
       "      <td>JEFE DE AUDITORIA DE CONTRALORIA II (EXTERNA)</td>\n",
       "      <td>54052.0</td>\n",
       "      <td>1815.00</td>\n",
       "      <td>0.0</td>\n",
       "      <td>02/02/2015</td>\n",
       "      <td>1.0</td>\n",
       "      <td>PERMANENTE</td>\n",
       "    </tr>\n",
       "    <tr>\n",
       "      <th>31</th>\n",
       "      <td>ABRAHAM</td>\n",
       "      <td>MUNIZ</td>\n",
       "      <td>M</td>\n",
       "      <td>3729.0</td>\n",
       "      <td>8-0713-02154</td>\n",
       "      <td>CONTADOR III (SUPERVISOR)</td>\n",
       "      <td>51023.0</td>\n",
       "      <td>2102.00</td>\n",
       "      <td>0.0</td>\n",
       "      <td>24/03/2011</td>\n",
       "      <td>1.0</td>\n",
       "      <td>PERMANENTE</td>\n",
       "    </tr>\n",
       "    <tr>\n",
       "      <th>38</th>\n",
       "      <td>ADALBERTO B</td>\n",
       "      <td>RIVERA</td>\n",
       "      <td>M</td>\n",
       "      <td>3638.0</td>\n",
       "      <td>9-0197-00413</td>\n",
       "      <td>AUDITOR III (SUPERVISOR)</td>\n",
       "      <td>54023.0</td>\n",
       "      <td>1896.00</td>\n",
       "      <td>0.0</td>\n",
       "      <td>01/11/2012</td>\n",
       "      <td>1.0</td>\n",
       "      <td>PERMANENTE</td>\n",
       "    </tr>\n",
       "    <tr>\n",
       "      <th>39</th>\n",
       "      <td>ADAN</td>\n",
       "      <td>VELASQUEZ</td>\n",
       "      <td>M</td>\n",
       "      <td>5004.0</td>\n",
       "      <td>8-0511-00138</td>\n",
       "      <td>AUDITOR III (SUPERVISOR)</td>\n",
       "      <td>54023.0</td>\n",
       "      <td>2125.00</td>\n",
       "      <td>0.0</td>\n",
       "      <td>25/03/2002</td>\n",
       "      <td>1.0</td>\n",
       "      <td>PERMANENTE</td>\n",
       "    </tr>\n",
       "    <tr>\n",
       "      <th>...</th>\n",
       "      <td>...</td>\n",
       "      <td>...</td>\n",
       "      <td>...</td>\n",
       "      <td>...</td>\n",
       "      <td>...</td>\n",
       "      <td>...</td>\n",
       "      <td>...</td>\n",
       "      <td>...</td>\n",
       "      <td>...</td>\n",
       "      <td>...</td>\n",
       "      <td>...</td>\n",
       "      <td>...</td>\n",
       "    </tr>\n",
       "    <tr>\n",
       "      <th>4748</th>\n",
       "      <td>ZULEICA</td>\n",
       "      <td>AGRAZAL C</td>\n",
       "      <td>F</td>\n",
       "      <td>1325.0</td>\n",
       "      <td>8-0240-00558</td>\n",
       "      <td>AUDITOR FISCAL SUPERVISOR</td>\n",
       "      <td>55050.0</td>\n",
       "      <td>1944.63</td>\n",
       "      <td>0.0</td>\n",
       "      <td>11/07/1983</td>\n",
       "      <td>1.0</td>\n",
       "      <td>PERMANENTE</td>\n",
       "    </tr>\n",
       "    <tr>\n",
       "      <th>4749</th>\n",
       "      <td>ZULEIKA</td>\n",
       "      <td>GUARDIA</td>\n",
       "      <td>F</td>\n",
       "      <td>2684.0</td>\n",
       "      <td>8-0397-00416</td>\n",
       "      <td>ANALISTA DE RECURSOS HUMANOS</td>\n",
       "      <td>36052.0</td>\n",
       "      <td>1773.00</td>\n",
       "      <td>0.0</td>\n",
       "      <td>22/05/2009</td>\n",
       "      <td>1.0</td>\n",
       "      <td>PERMANENTE</td>\n",
       "    </tr>\n",
       "    <tr>\n",
       "      <th>4754</th>\n",
       "      <td>ZULEIKA EDITH</td>\n",
       "      <td>PRADO</td>\n",
       "      <td>F</td>\n",
       "      <td>242.0</td>\n",
       "      <td>8-0297-00453</td>\n",
       "      <td>ASISTENTE EJECUTIVO II</td>\n",
       "      <td>17032.0</td>\n",
       "      <td>3564.00</td>\n",
       "      <td>0.0</td>\n",
       "      <td>16/01/2020</td>\n",
       "      <td>1.0</td>\n",
       "      <td>PERMANENTE</td>\n",
       "    </tr>\n",
       "    <tr>\n",
       "      <th>4760</th>\n",
       "      <td>ZULLY M</td>\n",
       "      <td>CASTILLO</td>\n",
       "      <td>F</td>\n",
       "      <td>3575.0</td>\n",
       "      <td>8-0516-01609</td>\n",
       "      <td>AUDITOR II</td>\n",
       "      <td>54022.0</td>\n",
       "      <td>1932.00</td>\n",
       "      <td>0.0</td>\n",
       "      <td>03/02/2016</td>\n",
       "      <td>1.0</td>\n",
       "      <td>PERMANENTE</td>\n",
       "    </tr>\n",
       "    <tr>\n",
       "      <th>4764</th>\n",
       "      <td>ZURISADAY B</td>\n",
       "      <td>VILLARRETA</td>\n",
       "      <td>F</td>\n",
       "      <td>1562.0</td>\n",
       "      <td>8-0795-00227</td>\n",
       "      <td>JEFE DE AUDITORIA DE CONTRALORIA I (EXTERNA)</td>\n",
       "      <td>54051.0</td>\n",
       "      <td>1824.00</td>\n",
       "      <td>0.0</td>\n",
       "      <td>01/09/2010</td>\n",
       "      <td>1.0</td>\n",
       "      <td>PERMANENTE</td>\n",
       "    </tr>\n",
       "  </tbody>\n",
       "</table>\n",
       "<p>1258 rows × 12 columns</p>\n",
       "</div>"
      ],
      "text/plain": [
       "                    nombre         apellido genero  posicion        cedula  \\\n",
       "6     ABDIEL A              SOTO M               M    1258.0  8-0498-00271   \n",
       "10    ABDIEL E              ROMERO               M     497.0  8-0480-00091   \n",
       "31    ABRAHAM               MUNIZ                M    3729.0  8-0713-02154   \n",
       "38    ADALBERTO B           RIVERA               M    3638.0  9-0197-00413   \n",
       "39    ADAN                  VELASQUEZ            M    5004.0  8-0511-00138   \n",
       "...                    ...              ...    ...       ...           ...   \n",
       "4748  ZULEICA               AGRAZAL C            F    1325.0  8-0240-00558   \n",
       "4749  ZULEIKA               GUARDIA              F    2684.0  8-0397-00416   \n",
       "4754  ZULEIKA EDITH         PRADO                F     242.0  8-0297-00453   \n",
       "4760  ZULLY M               CASTILLO             F    3575.0  8-0516-01609   \n",
       "4764  ZURISADAY B           VILLARRETA           F    1562.0  8-0795-00227   \n",
       "\n",
       "                                                  cargo  codigoCargo  \\\n",
       "6     ANALISTA DEL SISTEMA DE CONTABILIDAD GUBERNAME...      52012.0   \n",
       "10        JEFE DE AUDITORIA DE CONTRALORIA II (EXTERNA)      54052.0   \n",
       "31                            CONTADOR III (SUPERVISOR)      51023.0   \n",
       "38                             AUDITOR III (SUPERVISOR)      54023.0   \n",
       "39                             AUDITOR III (SUPERVISOR)      54023.0   \n",
       "...                                                 ...          ...   \n",
       "4748                          AUDITOR FISCAL SUPERVISOR      55050.0   \n",
       "4749                       ANALISTA DE RECURSOS HUMANOS      36052.0   \n",
       "4754                             ASISTENTE EJECUTIVO II      17032.0   \n",
       "4760                                         AUDITOR II      54022.0   \n",
       "4764       JEFE DE AUDITORIA DE CONTRALORIA I (EXTERNA)      54051.0   \n",
       "\n",
       "      salarioMensual  sobresueldo inicioLaboral  objetoGastos     estatus  \n",
       "6            1844.00          0.0    21/02/1995           1.0  PERMANENTE  \n",
       "10           1815.00          0.0    02/02/2015           1.0  PERMANENTE  \n",
       "31           2102.00          0.0    24/03/2011           1.0  PERMANENTE  \n",
       "38           1896.00          0.0    01/11/2012           1.0  PERMANENTE  \n",
       "39           2125.00          0.0    25/03/2002           1.0  PERMANENTE  \n",
       "...              ...          ...           ...           ...         ...  \n",
       "4748         1944.63          0.0    11/07/1983           1.0  PERMANENTE  \n",
       "4749         1773.00          0.0    22/05/2009           1.0  PERMANENTE  \n",
       "4754         3564.00          0.0    16/01/2020           1.0  PERMANENTE  \n",
       "4760         1932.00          0.0    03/02/2016           1.0  PERMANENTE  \n",
       "4764         1824.00          0.0    01/09/2010           1.0  PERMANENTE  \n",
       "\n",
       "[1258 rows x 12 columns]"
      ]
     },
     "execution_count": 17,
     "metadata": {},
     "output_type": "execute_result"
    }
   ],
   "source": [
    "dataset.loc[(dataset['salarioMensual']>1700)]"
   ]
  },
  {
   "cell_type": "code",
   "execution_count": 20,
   "metadata": {},
   "outputs": [],
   "source": [
    "dataset=dataset.dropna()"
   ]
  },
  {
   "cell_type": "code",
   "execution_count": 22,
   "metadata": {},
   "outputs": [
    {
     "name": "stdout",
     "output_type": "stream",
     "text": [
      "[['AARON JOSUE         ' 'MEDINA         ' 'M' ... '01/08/2023' 2.0\n",
      "  'EVENTUAL']\n",
      " ['ABDEL               ' 'BATISTA        ' 'M' ... '17/10/2011' 1.0\n",
      "  'PERMANENTE']\n",
      " ['ABDEL JABBAR        ' 'ARCIA          ' 'M' ... '04/05/2022' 1.0\n",
      "  'PERMANENTE']\n",
      " ...\n",
      " ['ZUNELDA E           ' 'MOORE          ' 'F' ... '16/02/2012' 1.0\n",
      "  'PERMANENTE']\n",
      " ['ZURISADAI S         ' 'TREJOS         ' 'F' ... '16/09/2014' 1.0\n",
      "  'PERMANENTE']\n",
      " ['ZURISADAY B         ' 'VILLARRETA     ' 'F' ... '01/09/2010' 1.0\n",
      "  'PERMANENTE']]\n",
      "(4765, 12)\n"
     ]
    }
   ],
   "source": [
    "print(dataset.values)\n",
    "print(dataset.shape)"
   ]
  },
  {
   "cell_type": "code",
   "execution_count": 23,
   "metadata": {},
   "outputs": [
    {
     "data": {
      "text/plain": [
       "([<matplotlib.axis.XTick at 0x18e83e563d0>,\n",
       "  <matplotlib.axis.XTick at 0x18e83e55f10>],\n",
       " [Text(0, 0, 'Mujer'), Text(1, 0, 'hombre')])"
      ]
     },
     "execution_count": 23,
     "metadata": {},
     "output_type": "execute_result"
    },
    {
     "data": {
      "image/png": "[encoded data removed]",
      "text/plain": [
       "<Figure size 640x480 with 1 Axes>"
      ]
     },
     "metadata": {},
     "output_type": "display_data"
    }
   ],
   "source": [
    "sns.countplot(x='genero',data=dataset)\n",
    "plt.title('No. of male and female names in the dataset')\n",
    "plt.xticks([0,1],('Mujer','hombre'))"
   ]
  }
 ],
 "metadata": {
  "kernelspec": {
   "display_name": "Python 3",
   "language": "python",
   "name": "python3"
  },
  "language_info": {
   "codemirror_mode": {
    "name": "ipython",
    "version": 3
   },
   "file_extension": ".py",
   "mimetype": "text/x-python",
   "name": "python",
   "nbconvert_exporter": "python",
   "pygments_lexer": "ipython3",
   "version": "3.11.7"
  }
 },
 "nbformat": 4,
 "nbformat_minor": 2
}
