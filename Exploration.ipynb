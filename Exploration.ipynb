{
 "cells": [
  {
   "cell_type": "code",
   "execution_count": 1,
   "metadata": {},
   "outputs": [],
   "source": [
    "import numpy as np \n",
    "import pandas as pd \n",
    "import matplotlib.pyplot as plt \n",
    "import seaborn as sns\n",
    "\n",
    "from wordcloud import WordCloud"
   ]
  },
  {
   "cell_type": "code",
   "execution_count": 2,
   "metadata": {},
   "outputs": [],
   "source": [
    "dataset = pd.read_csv(\"PlanillaC.csv\",sep=';')"
   ]
  },
  {
   "cell_type": "code",
   "execution_count": 3,
   "metadata": {},
   "outputs": [
    {
     "data": {
      "text/html": [
       "<div>\n",
       "<style scoped>\n",
       "    .dataframe tbody tr th:only-of-type {\n",
       "        vertical-align: middle;\n",
       "    }\n",
       "\n",
       "    .dataframe tbody tr th {\n",
       "        vertical-align: top;\n",
       "    }\n",
       "\n",
       "    .dataframe thead th {\n",
       "        text-align: right;\n",
       "    }\n",
       "</style>\n",
       "<table border=\"1\" class=\"dataframe\">\n",
       "  <thead>\n",
       "    <tr style=\"text-align: right;\">\n",
       "      <th></th>\n",
       "      <th>nombre</th>\n",
       "      <th>apellido</th>\n",
       "      <th>genero</th>\n",
       "      <th>posicion</th>\n",
       "      <th>cedula</th>\n",
       "      <th>cargo</th>\n",
       "      <th>codigoCargo</th>\n",
       "      <th>salarioMensual</th>\n",
       "      <th>sobresueldo</th>\n",
       "      <th>inicioLaboral</th>\n",
       "      <th>objetoGastos</th>\n",
       "      <th>estatus</th>\n",
       "    </tr>\n",
       "  </thead>\n",
       "  <tbody>\n",
       "    <tr>\n",
       "      <th>0</th>\n",
       "      <td>AARON JOSUE</td>\n",
       "      <td>MEDINA</td>\n",
       "      <td>M</td>\n",
       "      <td>43192.0</td>\n",
       "      <td>8-0919-00412</td>\n",
       "      <td>ESTADISTICO CENSAL I</td>\n",
       "      <td>41091.0</td>\n",
       "      <td>700.0</td>\n",
       "      <td>0.0</td>\n",
       "      <td>01/08/2023</td>\n",
       "      <td>2.0</td>\n",
       "      <td>EVENTUAL</td>\n",
       "    </tr>\n",
       "    <tr>\n",
       "      <th>1</th>\n",
       "      <td>ABDEL</td>\n",
       "      <td>BATISTA</td>\n",
       "      <td>M</td>\n",
       "      <td>4591.0</td>\n",
       "      <td>9-0712-01688</td>\n",
       "      <td>CONDUCTOR DE VEHICULO   I</td>\n",
       "      <td>6034011.0</td>\n",
       "      <td>837.0</td>\n",
       "      <td>0.0</td>\n",
       "      <td>17/10/2011</td>\n",
       "      <td>1.0</td>\n",
       "      <td>PERMANENTE</td>\n",
       "    </tr>\n",
       "    <tr>\n",
       "      <th>2</th>\n",
       "      <td>ABDEL JABBAR</td>\n",
       "      <td>ARCIA</td>\n",
       "      <td>M</td>\n",
       "      <td>6053.0</td>\n",
       "      <td>8-0806-01206</td>\n",
       "      <td>AUDITOR FISCAL III</td>\n",
       "      <td>55023.0</td>\n",
       "      <td>1198.0</td>\n",
       "      <td>0.0</td>\n",
       "      <td>04/05/2022</td>\n",
       "      <td>1.0</td>\n",
       "      <td>PERMANENTE</td>\n",
       "    </tr>\n",
       "    <tr>\n",
       "      <th>3</th>\n",
       "      <td>ABDIEL</td>\n",
       "      <td>ESPINOSA</td>\n",
       "      <td>M</td>\n",
       "      <td>4785.0</td>\n",
       "      <td>9-0731-00875</td>\n",
       "      <td>ESTADISTICO II</td>\n",
       "      <td>41022.0</td>\n",
       "      <td>1548.0</td>\n",
       "      <td>0.0</td>\n",
       "      <td>16/04/2013</td>\n",
       "      <td>1.0</td>\n",
       "      <td>PERMANENTE</td>\n",
       "    </tr>\n",
       "    <tr>\n",
       "      <th>4</th>\n",
       "      <td>ABDIEL</td>\n",
       "      <td>OLIVARDIA</td>\n",
       "      <td>M</td>\n",
       "      <td>38112.0</td>\n",
       "      <td>8-0718-01099</td>\n",
       "      <td>TECNICO EN REPARACION DE EQUIPO DE  COMUNICACI...</td>\n",
       "      <td>6012310.0</td>\n",
       "      <td>1300.0</td>\n",
       "      <td>0.0</td>\n",
       "      <td>03/01/2023</td>\n",
       "      <td>2.0</td>\n",
       "      <td>EVENTUAL</td>\n",
       "    </tr>\n",
       "  </tbody>\n",
       "</table>\n",
       "</div>"
      ],
      "text/plain": [
       "                 nombre         apellido genero  posicion        cedula  \\\n",
       "0  AARON JOSUE           MEDINA               M   43192.0  8-0919-00412   \n",
       "1  ABDEL                 BATISTA              M    4591.0  9-0712-01688   \n",
       "2  ABDEL JABBAR          ARCIA                M    6053.0  8-0806-01206   \n",
       "3  ABDIEL                ESPINOSA             M    4785.0  9-0731-00875   \n",
       "4  ABDIEL                OLIVARDIA            M   38112.0  8-0718-01099   \n",
       "\n",
       "                                               cargo  codigoCargo  \\\n",
       "0                               ESTADISTICO CENSAL I      41091.0   \n",
       "1                          CONDUCTOR DE VEHICULO   I    6034011.0   \n",
       "2                                 AUDITOR FISCAL III      55023.0   \n",
       "3                                     ESTADISTICO II      41022.0   \n",
       "4  TECNICO EN REPARACION DE EQUIPO DE  COMUNICACI...    6012310.0   \n",
       "\n",
       "   salarioMensual  sobresueldo inicioLaboral  objetoGastos     estatus  \n",
       "0           700.0          0.0    01/08/2023           2.0    EVENTUAL  \n",
       "1           837.0          0.0    17/10/2011           1.0  PERMANENTE  \n",
       "2          1198.0          0.0    04/05/2022           1.0  PERMANENTE  \n",
       "3          1548.0          0.0    16/04/2013           1.0  PERMANENTE  \n",
       "4          1300.0          0.0    03/01/2023           2.0    EVENTUAL  "
      ]
     },
     "execution_count": 3,
     "metadata": {},
     "output_type": "execute_result"
    }
   ],
   "source": [
    "dataset.head()"
   ]
  },
  {
   "cell_type": "code",
   "execution_count": 4,
   "metadata": {},
   "outputs": [
    {
     "name": "stdout",
     "output_type": "stream",
     "text": [
      "Index(['nombre', 'apellido', 'genero', 'posicion', 'cedula', 'cargo',\n",
      "       'codigoCargo', 'salarioMensual', 'sobresueldo', 'inicioLaboral',\n",
      "       'objetoGastos', 'estatus'],\n",
      "      dtype='object')\n"
     ]
    }
   ],
   "source": [
    "print(dataset.columns)"
   ]
  },
  {
   "cell_type": "code",
   "execution_count": 5,
   "metadata": {},
   "outputs": [
    {
     "name": "stdout",
     "output_type": "stream",
     "text": [
      "nombre             object\n",
      "apellido           object\n",
      "genero             object\n",
      "posicion          float64\n",
      "cedula             object\n",
      "cargo              object\n",
      "codigoCargo       float64\n",
      "salarioMensual    float64\n",
      "sobresueldo       float64\n",
      "inicioLaboral      object\n",
      "objetoGastos      float64\n",
      "estatus            object\n",
      "dtype: object\n"
     ]
    }
   ],
   "source": [
    "print(dataset.dtypes)"
   ]
  },
  {
   "cell_type": "code",
   "execution_count": 6,
   "metadata": {},
   "outputs": [
    {
     "data": {
      "text/plain": [
       "array([['AARON JOSUE         ', 'MEDINA         ', 'M', ...,\n",
       "        '01/08/2023', 2.0, 'EVENTUAL'],\n",
       "       ['ABDEL               ', 'BATISTA        ', 'M', ...,\n",
       "        '17/10/2011', 1.0, 'PERMANENTE'],\n",
       "       ['ABDEL JABBAR        ', 'ARCIA          ', 'M', ...,\n",
       "        '04/05/2022', 1.0, 'PERMANENTE'],\n",
       "       ...,\n",
       "       [nan, nan, nan, ..., nan, nan, nan],\n",
       "       [nan, nan, nan, ..., nan, nan, nan],\n",
       "       [nan, nan, nan, ..., nan, nan, nan]], dtype=object)"
      ]
     },
     "execution_count": 6,
     "metadata": {},
     "output_type": "execute_result"
    }
   ],
   "source": [
    "dataset.values"
   ]
  },
  {
   "cell_type": "code",
   "execution_count": 7,
   "metadata": {},
   "outputs": [
    {
     "data": {
      "text/plain": [
       "[RangeIndex(start=0, stop=4838, step=1),\n",
       " Index(['nombre', 'apellido', 'genero', 'posicion', 'cedula', 'cargo',\n",
       "        'codigoCargo', 'salarioMensual', 'sobresueldo', 'inicioLaboral',\n",
       "        'objetoGastos', 'estatus'],\n",
       "       dtype='object')]"
      ]
     },
     "execution_count": 7,
     "metadata": {},
     "output_type": "execute_result"
    }
   ],
   "source": [
    "dataset.axes"
   ]
  },
  {
   "cell_type": "code",
   "execution_count": 8,
   "metadata": {},
   "outputs": [
    {
     "name": "stdout",
     "output_type": "stream",
     "text": [
      "2\n",
      "58056\n",
      "(4838, 12)\n"
     ]
    }
   ],
   "source": [
    "print(dataset.ndim)\n",
    "print(dataset.size)\n",
    "print(dataset.shape)"
   ]
  },
  {
   "cell_type": "code",
   "execution_count": 9,
   "metadata": {},
   "outputs": [
    {
     "data": {
      "text/plain": [
       "'OLIVARDIA      '"
      ]
     },
     "execution_count": 9,
     "metadata": {},
     "output_type": "execute_result"
    }
   ],
   "source": [
    "dataset.at[4,'apellido']"
   ]
  },
  {
   "cell_type": "code",
   "execution_count": 10,
   "metadata": {},
   "outputs": [
    {
     "data": {
      "text/plain": [
       "nombre                                         ABDIEL              \n",
       "apellido                                            OLIVARDIA      \n",
       "genero                                                            M\n",
       "posicion                                                    38112.0\n",
       "cedula                                                 8-0718-01099\n",
       "cargo             TECNICO EN REPARACION DE EQUIPO DE  COMUNICACI...\n",
       "codigoCargo                                               6012310.0\n",
       "salarioMensual                                               1300.0\n",
       "sobresueldo                                                     0.0\n",
       "inicioLaboral                                            03/01/2023\n",
       "objetoGastos                                                    2.0\n",
       "estatus                                                    EVENTUAL\n",
       "Name: 4, dtype: object"
      ]
     },
     "execution_count": 10,
     "metadata": {},
     "output_type": "execute_result"
    }
   ],
   "source": [
    "dataset.loc[4]"
   ]
  },
  {
   "cell_type": "code",
   "execution_count": 11,
   "metadata": {},
   "outputs": [
    {
     "data": {
      "text/html": [
       "<div>\n",
       "<style scoped>\n",
       "    .dataframe tbody tr th:only-of-type {\n",
       "        vertical-align: middle;\n",
       "    }\n",
       "\n",
       "    .dataframe tbody tr th {\n",
       "        vertical-align: top;\n",
       "    }\n",
       "\n",
       "    .dataframe thead th {\n",
       "        text-align: right;\n",
       "    }\n",
       "</style>\n",
       "<table border=\"1\" class=\"dataframe\">\n",
       "  <thead>\n",
       "    <tr style=\"text-align: right;\">\n",
       "      <th></th>\n",
       "      <th>nombre</th>\n",
       "      <th>apellido</th>\n",
       "      <th>genero</th>\n",
       "      <th>posicion</th>\n",
       "      <th>cedula</th>\n",
       "      <th>cargo</th>\n",
       "      <th>codigoCargo</th>\n",
       "      <th>salarioMensual</th>\n",
       "      <th>sobresueldo</th>\n",
       "      <th>inicioLaboral</th>\n",
       "      <th>objetoGastos</th>\n",
       "      <th>estatus</th>\n",
       "    </tr>\n",
       "  </thead>\n",
       "  <tbody>\n",
       "    <tr>\n",
       "      <th>6</th>\n",
       "      <td>ABDIEL A</td>\n",
       "      <td>SOTO M</td>\n",
       "      <td>M</td>\n",
       "      <td>1258.0</td>\n",
       "      <td>8-0498-00271</td>\n",
       "      <td>ANALISTA DEL SISTEMA DE CONTABILIDAD GUBERNAME...</td>\n",
       "      <td>52012.0</td>\n",
       "      <td>1844.00</td>\n",
       "      <td>0.0</td>\n",
       "      <td>21/02/1995</td>\n",
       "      <td>1.0</td>\n",
       "      <td>PERMANENTE</td>\n",
       "    </tr>\n",
       "    <tr>\n",
       "      <th>10</th>\n",
       "      <td>ABDIEL E</td>\n",
       "      <td>ROMERO</td>\n",
       "      <td>M</td>\n",
       "      <td>497.0</td>\n",
       "      <td>8-0480-00091</td>\n",
       "      <td>JEFE DE AUDITORIA DE CONTRALORIA II (EXTERNA)</td>\n",
       "      <td>54052.0</td>\n",
       "      <td>1815.00</td>\n",
       "      <td>0.0</td>\n",
       "      <td>02/02/2015</td>\n",
       "      <td>1.0</td>\n",
       "      <td>PERMANENTE</td>\n",
       "    </tr>\n",
       "    <tr>\n",
       "      <th>31</th>\n",
       "      <td>ABRAHAM</td>\n",
       "      <td>MUNIZ</td>\n",
       "      <td>M</td>\n",
       "      <td>3729.0</td>\n",
       "      <td>8-0713-02154</td>\n",
       "      <td>CONTADOR III (SUPERVISOR)</td>\n",
       "      <td>51023.0</td>\n",
       "      <td>2102.00</td>\n",
       "      <td>0.0</td>\n",
       "      <td>24/03/2011</td>\n",
       "      <td>1.0</td>\n",
       "      <td>PERMANENTE</td>\n",
       "    </tr>\n",
       "    <tr>\n",
       "      <th>38</th>\n",
       "      <td>ADALBERTO B</td>\n",
       "      <td>RIVERA</td>\n",
       "      <td>M</td>\n",
       "      <td>3638.0</td>\n",
       "      <td>9-0197-00413</td>\n",
       "      <td>AUDITOR III (SUPERVISOR)</td>\n",
       "      <td>54023.0</td>\n",
       "      <td>1896.00</td>\n",
       "      <td>0.0</td>\n",
       "      <td>01/11/2012</td>\n",
       "      <td>1.0</td>\n",
       "      <td>PERMANENTE</td>\n",
       "    </tr>\n",
       "    <tr>\n",
       "      <th>39</th>\n",
       "      <td>ADAN</td>\n",
       "      <td>VELASQUEZ</td>\n",
       "      <td>M</td>\n",
       "      <td>5004.0</td>\n",
       "      <td>8-0511-00138</td>\n",
       "      <td>AUDITOR III (SUPERVISOR)</td>\n",
       "      <td>54023.0</td>\n",
       "      <td>2125.00</td>\n",
       "      <td>0.0</td>\n",
       "      <td>25/03/2002</td>\n",
       "      <td>1.0</td>\n",
       "      <td>PERMANENTE</td>\n",
       "    </tr>\n",
       "    <tr>\n",
       "      <th>...</th>\n",
       "      <td>...</td>\n",
       "      <td>...</td>\n",
       "      <td>...</td>\n",
       "      <td>...</td>\n",
       "      <td>...</td>\n",
       "      <td>...</td>\n",
       "      <td>...</td>\n",
       "      <td>...</td>\n",
       "      <td>...</td>\n",
       "      <td>...</td>\n",
       "      <td>...</td>\n",
       "      <td>...</td>\n",
       "    </tr>\n",
       "    <tr>\n",
       "      <th>4748</th>\n",
       "      <td>ZULEICA</td>\n",
       "      <td>AGRAZAL C</td>\n",
       "      <td>F</td>\n",
       "      <td>1325.0</td>\n",
       "      <td>8-0240-00558</td>\n",
       "      <td>AUDITOR FISCAL SUPERVISOR</td>\n",
       "      <td>55050.0</td>\n",
       "      <td>1944.63</td>\n",
       "      <td>0.0</td>\n",
       "      <td>11/07/1983</td>\n",
       "      <td>1.0</td>\n",
       "      <td>PERMANENTE</td>\n",
       "    </tr>\n",
       "    <tr>\n",
       "      <th>4749</th>\n",
       "      <td>ZULEIKA</td>\n",
       "      <td>GUARDIA</td>\n",
       "      <td>F</td>\n",
       "      <td>2684.0</td>\n",
       "      <td>8-0397-00416</td>\n",
       "      <td>ANALISTA DE RECURSOS HUMANOS</td>\n",
       "      <td>36052.0</td>\n",
       "      <td>1773.00</td>\n",
       "      <td>0.0</td>\n",
       "      <td>22/05/2009</td>\n",
       "      <td>1.0</td>\n",
       "      <td>PERMANENTE</td>\n",
       "    </tr>\n",
       "    <tr>\n",
       "      <th>4754</th>\n",
       "      <td>ZULEIKA EDITH</td>\n",
       "      <td>PRADO</td>\n",
       "      <td>F</td>\n",
       "      <td>242.0</td>\n",
       "      <td>8-0297-00453</td>\n",
       "      <td>ASISTENTE EJECUTIVO II</td>\n",
       "      <td>17032.0</td>\n",
       "      <td>3564.00</td>\n",
       "      <td>0.0</td>\n",
       "      <td>16/01/2020</td>\n",
       "      <td>1.0</td>\n",
       "      <td>PERMANENTE</td>\n",
       "    </tr>\n",
       "    <tr>\n",
       "      <th>4760</th>\n",
       "      <td>ZULLY M</td>\n",
       "      <td>CASTILLO</td>\n",
       "      <td>F</td>\n",
       "      <td>3575.0</td>\n",
       "      <td>8-0516-01609</td>\n",
       "      <td>AUDITOR II</td>\n",
       "      <td>54022.0</td>\n",
       "      <td>1932.00</td>\n",
       "      <td>0.0</td>\n",
       "      <td>03/02/2016</td>\n",
       "      <td>1.0</td>\n",
       "      <td>PERMANENTE</td>\n",
       "    </tr>\n",
       "    <tr>\n",
       "      <th>4764</th>\n",
       "      <td>ZURISADAY B</td>\n",
       "      <td>VILLARRETA</td>\n",
       "      <td>F</td>\n",
       "      <td>1562.0</td>\n",
       "      <td>8-0795-00227</td>\n",
       "      <td>JEFE DE AUDITORIA DE CONTRALORIA I (EXTERNA)</td>\n",
       "      <td>54051.0</td>\n",
       "      <td>1824.00</td>\n",
       "      <td>0.0</td>\n",
       "      <td>01/09/2010</td>\n",
       "      <td>1.0</td>\n",
       "      <td>PERMANENTE</td>\n",
       "    </tr>\n",
       "  </tbody>\n",
       "</table>\n",
       "<p>1258 rows × 12 columns</p>\n",
       "</div>"
      ],
      "text/plain": [
       "                    nombre         apellido genero  posicion        cedula  \\\n",
       "6     ABDIEL A              SOTO M               M    1258.0  8-0498-00271   \n",
       "10    ABDIEL E              ROMERO               M     497.0  8-0480-00091   \n",
       "31    ABRAHAM               MUNIZ                M    3729.0  8-0713-02154   \n",
       "38    ADALBERTO B           RIVERA               M    3638.0  9-0197-00413   \n",
       "39    ADAN                  VELASQUEZ            M    5004.0  8-0511-00138   \n",
       "...                    ...              ...    ...       ...           ...   \n",
       "4748  ZULEICA               AGRAZAL C            F    1325.0  8-0240-00558   \n",
       "4749  ZULEIKA               GUARDIA              F    2684.0  8-0397-00416   \n",
       "4754  ZULEIKA EDITH         PRADO                F     242.0  8-0297-00453   \n",
       "4760  ZULLY M               CASTILLO             F    3575.0  8-0516-01609   \n",
       "4764  ZURISADAY B           VILLARRETA           F    1562.0  8-0795-00227   \n",
       "\n",
       "                                                  cargo  codigoCargo  \\\n",
       "6     ANALISTA DEL SISTEMA DE CONTABILIDAD GUBERNAME...      52012.0   \n",
       "10        JEFE DE AUDITORIA DE CONTRALORIA II (EXTERNA)      54052.0   \n",
       "31                            CONTADOR III (SUPERVISOR)      51023.0   \n",
       "38                             AUDITOR III (SUPERVISOR)      54023.0   \n",
       "39                             AUDITOR III (SUPERVISOR)      54023.0   \n",
       "...                                                 ...          ...   \n",
       "4748                          AUDITOR FISCAL SUPERVISOR      55050.0   \n",
       "4749                       ANALISTA DE RECURSOS HUMANOS      36052.0   \n",
       "4754                             ASISTENTE EJECUTIVO II      17032.0   \n",
       "4760                                         AUDITOR II      54022.0   \n",
       "4764       JEFE DE AUDITORIA DE CONTRALORIA I (EXTERNA)      54051.0   \n",
       "\n",
       "      salarioMensual  sobresueldo inicioLaboral  objetoGastos     estatus  \n",
       "6            1844.00          0.0    21/02/1995           1.0  PERMANENTE  \n",
       "10           1815.00          0.0    02/02/2015           1.0  PERMANENTE  \n",
       "31           2102.00          0.0    24/03/2011           1.0  PERMANENTE  \n",
       "38           1896.00          0.0    01/11/2012           1.0  PERMANENTE  \n",
       "39           2125.00          0.0    25/03/2002           1.0  PERMANENTE  \n",
       "...              ...          ...           ...           ...         ...  \n",
       "4748         1944.63          0.0    11/07/1983           1.0  PERMANENTE  \n",
       "4749         1773.00          0.0    22/05/2009           1.0  PERMANENTE  \n",
       "4754         3564.00          0.0    16/01/2020           1.0  PERMANENTE  \n",
       "4760         1932.00          0.0    03/02/2016           1.0  PERMANENTE  \n",
       "4764         1824.00          0.0    01/09/2010           1.0  PERMANENTE  \n",
       "\n",
       "[1258 rows x 12 columns]"
      ]
     },
     "execution_count": 11,
     "metadata": {},
     "output_type": "execute_result"
    }
   ],
   "source": [
    "dataset.loc[(dataset['salarioMensual']>1700)]"
   ]
  },
  {
   "cell_type": "code",
   "execution_count": 12,
   "metadata": {},
   "outputs": [],
   "source": [
    "dataset=dataset.dropna()"
   ]
  },
  {
   "cell_type": "code",
   "execution_count": 13,
   "metadata": {},
   "outputs": [
    {
     "name": "stdout",
     "output_type": "stream",
     "text": [
      "[['AARON JOSUE         ' 'MEDINA         ' 'M' ... '01/08/2023' 2.0\n",
      "  'EVENTUAL']\n",
      " ['ABDEL               ' 'BATISTA        ' 'M' ... '17/10/2011' 1.0\n",
      "  'PERMANENTE']\n",
      " ['ABDEL JABBAR        ' 'ARCIA          ' 'M' ... '04/05/2022' 1.0\n",
      "  'PERMANENTE']\n",
      " ...\n",
      " ['ZUNELDA E           ' 'MOORE          ' 'F' ... '16/02/2012' 1.0\n",
      "  'PERMANENTE']\n",
      " ['ZURISADAI S         ' 'TREJOS         ' 'F' ... '16/09/2014' 1.0\n",
      "  'PERMANENTE']\n",
      " ['ZURISADAY B         ' 'VILLARRETA     ' 'F' ... '01/09/2010' 1.0\n",
      "  'PERMANENTE']]\n",
      "(4765, 12)\n"
     ]
    }
   ],
   "source": [
    "print(dataset.values)\n",
    "print(dataset.shape)"
   ]
  },
  {
   "cell_type": "code",
   "execution_count": 14,
   "metadata": {},
   "outputs": [
    {
     "data": {
      "text/plain": [
       "([<matplotlib.axis.XTick at 0x228e5ed1550>,\n",
       "  <matplotlib.axis.XTick at 0x228e4dcf1d0>],\n",
       " [Text(0, 0, 'Mujer'), Text(1, 0, 'hombre')])"
      ]
     },
     "execution_count": 14,
     "metadata": {},
     "output_type": "execute_result"
    },
    {
     "data": {
      "image/png": "[encoded data removed]",
      "text/plain": [
       "<Figure size 640x480 with 1 Axes>"
      ]
     },
     "metadata": {},
     "output_type": "display_data"
    }
   ],
   "source": [
    "sns.countplot(x='genero',data=dataset)\n",
    "plt.title('No. of male and female names in the dataset')\n",
    "plt.xticks([0,1],('Mujer','hombre'))"
   ]
  },
  {
   "cell_type": "code",
   "execution_count": 15,
   "metadata": {},
   "outputs": [
    {
     "data": {
      "text/plain": [
       "Text(0.5, 1.0, 'No. of employees')"
      ]
     },
     "execution_count": 15,
     "metadata": {},
     "output_type": "execute_result"
    },
    {
     "data": {
      "image/png": "[encoded data removed]",
      "text/plain": [
       "<Figure size 640x480 with 1 Axes>"
      ]
     },
     "metadata": {},
     "output_type": "display_data"
    }
   ],
   "source": [
    "sns.countplot(x='cargo',data=dataset)\n",
    "plt.title('No. of employees')"
   ]
  },
  {
   "cell_type": "code",
   "execution_count": 16,
   "metadata": {},
   "outputs": [
    {
     "data": {
      "text/plain": [
       "Index(['nombre', 'apellido', 'genero', 'posicion', 'cedula', 'cargo',\n",
       "       'codigoCargo', 'salarioMensual', 'sobresueldo', 'inicioLaboral',\n",
       "       'objetoGastos', 'estatus'],\n",
       "      dtype='object')"
      ]
     },
     "execution_count": 16,
     "metadata": {},
     "output_type": "execute_result"
    }
   ],
   "source": [
    "dataset.keys()"
   ]
  },
  {
   "cell_type": "code",
   "execution_count": 17,
   "metadata": {},
   "outputs": [
    {
     "data": {
      "text/html": [
       "<div>\n",
       "<style scoped>\n",
       "    .dataframe tbody tr th:only-of-type {\n",
       "        vertical-align: middle;\n",
       "    }\n",
       "\n",
       "    .dataframe tbody tr th {\n",
       "        vertical-align: top;\n",
       "    }\n",
       "\n",
       "    .dataframe thead th {\n",
       "        text-align: right;\n",
       "    }\n",
       "</style>\n",
       "<table border=\"1\" class=\"dataframe\">\n",
       "  <thead>\n",
       "    <tr style=\"text-align: right;\">\n",
       "      <th></th>\n",
       "      <th>nombre</th>\n",
       "      <th>apellido</th>\n",
       "      <th>genero</th>\n",
       "      <th>posicion</th>\n",
       "      <th>cedula</th>\n",
       "      <th>cargo</th>\n",
       "      <th>codigoCargo</th>\n",
       "      <th>salarioMensual</th>\n",
       "      <th>sobresueldo</th>\n",
       "      <th>inicioLaboral</th>\n",
       "      <th>objetoGastos</th>\n",
       "      <th>estatus</th>\n",
       "    </tr>\n",
       "  </thead>\n",
       "  <tbody>\n",
       "    <tr>\n",
       "      <th>4760</th>\n",
       "      <td>ZULLY M</td>\n",
       "      <td>CASTILLO</td>\n",
       "      <td>F</td>\n",
       "      <td>3575.0</td>\n",
       "      <td>8-0516-01609</td>\n",
       "      <td>AUDITOR II</td>\n",
       "      <td>54022.0</td>\n",
       "      <td>1932.0</td>\n",
       "      <td>0.0</td>\n",
       "      <td>03/02/2016</td>\n",
       "      <td>1.0</td>\n",
       "      <td>PERMANENTE</td>\n",
       "    </tr>\n",
       "    <tr>\n",
       "      <th>4761</th>\n",
       "      <td>ZULLYMA KARELYA</td>\n",
       "      <td>BONNINI</td>\n",
       "      <td>F</td>\n",
       "      <td>5713.0</td>\n",
       "      <td>8-0426-00924</td>\n",
       "      <td>ASISTENTE ADMINISTRATIVO II</td>\n",
       "      <td>17052.0</td>\n",
       "      <td>1160.0</td>\n",
       "      <td>0.0</td>\n",
       "      <td>09/09/2020</td>\n",
       "      <td>1.0</td>\n",
       "      <td>PERMANENTE</td>\n",
       "    </tr>\n",
       "    <tr>\n",
       "      <th>4762</th>\n",
       "      <td>ZUNELDA E</td>\n",
       "      <td>MOORE</td>\n",
       "      <td>F</td>\n",
       "      <td>4139.0</td>\n",
       "      <td>8-0751-02284</td>\n",
       "      <td>AUDITOR FISCAL III</td>\n",
       "      <td>55023.0</td>\n",
       "      <td>1359.0</td>\n",
       "      <td>0.0</td>\n",
       "      <td>16/02/2012</td>\n",
       "      <td>1.0</td>\n",
       "      <td>PERMANENTE</td>\n",
       "    </tr>\n",
       "    <tr>\n",
       "      <th>4763</th>\n",
       "      <td>ZURISADAI S</td>\n",
       "      <td>TREJOS</td>\n",
       "      <td>F</td>\n",
       "      <td>4106.0</td>\n",
       "      <td>8-0839-01479</td>\n",
       "      <td>ANALISTA DE SISTEMAS Y METODOS  INFORMATICOS I</td>\n",
       "      <td>103011.0</td>\n",
       "      <td>1579.0</td>\n",
       "      <td>0.0</td>\n",
       "      <td>16/09/2014</td>\n",
       "      <td>1.0</td>\n",
       "      <td>PERMANENTE</td>\n",
       "    </tr>\n",
       "    <tr>\n",
       "      <th>4764</th>\n",
       "      <td>ZURISADAY B</td>\n",
       "      <td>VILLARRETA</td>\n",
       "      <td>F</td>\n",
       "      <td>1562.0</td>\n",
       "      <td>8-0795-00227</td>\n",
       "      <td>JEFE DE AUDITORIA DE CONTRALORIA I (EXTERNA)</td>\n",
       "      <td>54051.0</td>\n",
       "      <td>1824.0</td>\n",
       "      <td>0.0</td>\n",
       "      <td>01/09/2010</td>\n",
       "      <td>1.0</td>\n",
       "      <td>PERMANENTE</td>\n",
       "    </tr>\n",
       "  </tbody>\n",
       "</table>\n",
       "</div>"
      ],
      "text/plain": [
       "                    nombre         apellido genero  posicion        cedula  \\\n",
       "4760  ZULLY M               CASTILLO             F    3575.0  8-0516-01609   \n",
       "4761  ZULLYMA KARELYA       BONNINI              F    5713.0  8-0426-00924   \n",
       "4762  ZUNELDA E             MOORE                F    4139.0  8-0751-02284   \n",
       "4763  ZURISADAI S           TREJOS               F    4106.0  8-0839-01479   \n",
       "4764  ZURISADAY B           VILLARRETA           F    1562.0  8-0795-00227   \n",
       "\n",
       "                                               cargo  codigoCargo  \\\n",
       "4760                                      AUDITOR II      54022.0   \n",
       "4761                     ASISTENTE ADMINISTRATIVO II      17052.0   \n",
       "4762                              AUDITOR FISCAL III      55023.0   \n",
       "4763  ANALISTA DE SISTEMAS Y METODOS  INFORMATICOS I     103011.0   \n",
       "4764    JEFE DE AUDITORIA DE CONTRALORIA I (EXTERNA)      54051.0   \n",
       "\n",
       "      salarioMensual  sobresueldo inicioLaboral  objetoGastos     estatus  \n",
       "4760          1932.0          0.0    03/02/2016           1.0  PERMANENTE  \n",
       "4761          1160.0          0.0    09/09/2020           1.0  PERMANENTE  \n",
       "4762          1359.0          0.0    16/02/2012           1.0  PERMANENTE  \n",
       "4763          1579.0          0.0    16/09/2014           1.0  PERMANENTE  \n",
       "4764          1824.0          0.0    01/09/2010           1.0  PERMANENTE  "
      ]
     },
     "execution_count": 17,
     "metadata": {},
     "output_type": "execute_result"
    }
   ],
   "source": [
    "dataset.tail()"
   ]
  },
  {
   "cell_type": "code",
   "execution_count": 18,
   "metadata": {},
   "outputs": [
    {
     "data": {
      "text/html": [
       "<div>\n",
       "<style scoped>\n",
       "    .dataframe tbody tr th:only-of-type {\n",
       "        vertical-align: middle;\n",
       "    }\n",
       "\n",
       "    .dataframe tbody tr th {\n",
       "        vertical-align: top;\n",
       "    }\n",
       "\n",
       "    .dataframe thead th {\n",
       "        text-align: right;\n",
       "    }\n",
       "</style>\n",
       "<table border=\"1\" class=\"dataframe\">\n",
       "  <thead>\n",
       "    <tr style=\"text-align: right;\">\n",
       "      <th></th>\n",
       "      <th>nombre</th>\n",
       "      <th>apellido</th>\n",
       "      <th>genero</th>\n",
       "      <th>posicion</th>\n",
       "      <th>cedula</th>\n",
       "      <th>codigoCargo</th>\n",
       "      <th>salarioMensual</th>\n",
       "      <th>sobresueldo</th>\n",
       "      <th>inicioLaboral</th>\n",
       "      <th>objetoGastos</th>\n",
       "      <th>estatus</th>\n",
       "    </tr>\n",
       "    <tr>\n",
       "      <th>cargo</th>\n",
       "      <th></th>\n",
       "      <th></th>\n",
       "      <th></th>\n",
       "      <th></th>\n",
       "      <th></th>\n",
       "      <th></th>\n",
       "      <th></th>\n",
       "      <th></th>\n",
       "      <th></th>\n",
       "      <th></th>\n",
       "      <th></th>\n",
       "    </tr>\n",
       "  </thead>\n",
       "  <tbody>\n",
       "    <tr>\n",
       "      <th>ADMINISTRADOR I</th>\n",
       "      <td>1</td>\n",
       "      <td>1</td>\n",
       "      <td>1</td>\n",
       "      <td>1</td>\n",
       "      <td>1</td>\n",
       "      <td>1</td>\n",
       "      <td>1</td>\n",
       "      <td>1</td>\n",
       "      <td>1</td>\n",
       "      <td>1</td>\n",
       "      <td>1</td>\n",
       "    </tr>\n",
       "    <tr>\n",
       "      <th>ADMINISTRADOR II</th>\n",
       "      <td>2</td>\n",
       "      <td>2</td>\n",
       "      <td>2</td>\n",
       "      <td>2</td>\n",
       "      <td>2</td>\n",
       "      <td>2</td>\n",
       "      <td>2</td>\n",
       "      <td>2</td>\n",
       "      <td>2</td>\n",
       "      <td>2</td>\n",
       "      <td>2</td>\n",
       "    </tr>\n",
       "    <tr>\n",
       "      <th>ADMINISTRADOR III</th>\n",
       "      <td>3</td>\n",
       "      <td>3</td>\n",
       "      <td>3</td>\n",
       "      <td>3</td>\n",
       "      <td>3</td>\n",
       "      <td>3</td>\n",
       "      <td>3</td>\n",
       "      <td>3</td>\n",
       "      <td>3</td>\n",
       "      <td>3</td>\n",
       "      <td>3</td>\n",
       "    </tr>\n",
       "    <tr>\n",
       "      <th>ADMINISTRADOR REGIONAL</th>\n",
       "      <td>21</td>\n",
       "      <td>21</td>\n",
       "      <td>21</td>\n",
       "      <td>21</td>\n",
       "      <td>21</td>\n",
       "      <td>21</td>\n",
       "      <td>21</td>\n",
       "      <td>21</td>\n",
       "      <td>21</td>\n",
       "      <td>21</td>\n",
       "      <td>21</td>\n",
       "    </tr>\n",
       "    <tr>\n",
       "      <th>AGENTE DE SEGURIDAD II</th>\n",
       "      <td>4</td>\n",
       "      <td>4</td>\n",
       "      <td>4</td>\n",
       "      <td>4</td>\n",
       "      <td>4</td>\n",
       "      <td>4</td>\n",
       "      <td>4</td>\n",
       "      <td>4</td>\n",
       "      <td>4</td>\n",
       "      <td>4</td>\n",
       "      <td>4</td>\n",
       "    </tr>\n",
       "    <tr>\n",
       "      <th>...</th>\n",
       "      <td>...</td>\n",
       "      <td>...</td>\n",
       "      <td>...</td>\n",
       "      <td>...</td>\n",
       "      <td>...</td>\n",
       "      <td>...</td>\n",
       "      <td>...</td>\n",
       "      <td>...</td>\n",
       "      <td>...</td>\n",
       "      <td>...</td>\n",
       "      <td>...</td>\n",
       "    </tr>\n",
       "    <tr>\n",
       "      <th>SUPERVISOR DE MANTENIMIENTO</th>\n",
       "      <td>4</td>\n",
       "      <td>4</td>\n",
       "      <td>4</td>\n",
       "      <td>4</td>\n",
       "      <td>4</td>\n",
       "      <td>4</td>\n",
       "      <td>4</td>\n",
       "      <td>4</td>\n",
       "      <td>4</td>\n",
       "      <td>4</td>\n",
       "      <td>4</td>\n",
       "    </tr>\n",
       "    <tr>\n",
       "      <th>SUPERVISOR DE OPERACIONES</th>\n",
       "      <td>1</td>\n",
       "      <td>1</td>\n",
       "      <td>1</td>\n",
       "      <td>1</td>\n",
       "      <td>1</td>\n",
       "      <td>1</td>\n",
       "      <td>1</td>\n",
       "      <td>1</td>\n",
       "      <td>1</td>\n",
       "      <td>1</td>\n",
       "      <td>1</td>\n",
       "    </tr>\n",
       "    <tr>\n",
       "      <th>TECNICO EN REPARACION DE EQUIPO DE  COMUNICACIONES</th>\n",
       "      <td>65</td>\n",
       "      <td>65</td>\n",
       "      <td>65</td>\n",
       "      <td>65</td>\n",
       "      <td>65</td>\n",
       "      <td>65</td>\n",
       "      <td>65</td>\n",
       "      <td>65</td>\n",
       "      <td>65</td>\n",
       "      <td>65</td>\n",
       "      <td>65</td>\n",
       "    </tr>\n",
       "    <tr>\n",
       "      <th>TRABAJADOR MANUAL  I</th>\n",
       "      <td>128</td>\n",
       "      <td>128</td>\n",
       "      <td>128</td>\n",
       "      <td>128</td>\n",
       "      <td>128</td>\n",
       "      <td>128</td>\n",
       "      <td>128</td>\n",
       "      <td>128</td>\n",
       "      <td>128</td>\n",
       "      <td>128</td>\n",
       "      <td>128</td>\n",
       "    </tr>\n",
       "    <tr>\n",
       "      <th>TRABAJADOR SOCIAL GENERAL I</th>\n",
       "      <td>6</td>\n",
       "      <td>6</td>\n",
       "      <td>6</td>\n",
       "      <td>6</td>\n",
       "      <td>6</td>\n",
       "      <td>6</td>\n",
       "      <td>6</td>\n",
       "      <td>6</td>\n",
       "      <td>6</td>\n",
       "      <td>6</td>\n",
       "      <td>6</td>\n",
       "    </tr>\n",
       "  </tbody>\n",
       "</table>\n",
       "<p>129 rows × 11 columns</p>\n",
       "</div>"
      ],
      "text/plain": [
       "                                                    nombre  apellido  genero  \\\n",
       "cargo                                                                          \n",
       "ADMINISTRADOR I                                          1         1       1   \n",
       "ADMINISTRADOR II                                         2         2       2   \n",
       "ADMINISTRADOR III                                        3         3       3   \n",
       "ADMINISTRADOR REGIONAL                                  21        21      21   \n",
       "AGENTE DE SEGURIDAD II                                   4         4       4   \n",
       "...                                                    ...       ...     ...   \n",
       "SUPERVISOR DE MANTENIMIENTO                              4         4       4   \n",
       "SUPERVISOR DE OPERACIONES                                1         1       1   \n",
       "TECNICO EN REPARACION DE EQUIPO DE  COMUNICACIONES      65        65      65   \n",
       "TRABAJADOR MANUAL  I                                   128       128     128   \n",
       "TRABAJADOR SOCIAL GENERAL I                              6         6       6   \n",
       "\n",
       "                                                    posicion  cedula  \\\n",
       "cargo                                                                  \n",
       "ADMINISTRADOR I                                            1       1   \n",
       "ADMINISTRADOR II                                           2       2   \n",
       "ADMINISTRADOR III                                          3       3   \n",
       "ADMINISTRADOR REGIONAL                                    21      21   \n",
       "AGENTE DE SEGURIDAD II                                     4       4   \n",
       "...                                                      ...     ...   \n",
       "SUPERVISOR DE MANTENIMIENTO                                4       4   \n",
       "SUPERVISOR DE OPERACIONES                                  1       1   \n",
       "TECNICO EN REPARACION DE EQUIPO DE  COMUNICACIONES        65      65   \n",
       "TRABAJADOR MANUAL  I                                     128     128   \n",
       "TRABAJADOR SOCIAL GENERAL I                                6       6   \n",
       "\n",
       "                                                    codigoCargo  \\\n",
       "cargo                                                             \n",
       "ADMINISTRADOR I                                               1   \n",
       "ADMINISTRADOR II                                              2   \n",
       "ADMINISTRADOR III                                             3   \n",
       "ADMINISTRADOR REGIONAL                                       21   \n",
       "AGENTE DE SEGURIDAD II                                        4   \n",
       "...                                                         ...   \n",
       "SUPERVISOR DE MANTENIMIENTO                                   4   \n",
       "SUPERVISOR DE OPERACIONES                                     1   \n",
       "TECNICO EN REPARACION DE EQUIPO DE  COMUNICACIONES           65   \n",
       "TRABAJADOR MANUAL  I                                        128   \n",
       "TRABAJADOR SOCIAL GENERAL I                                   6   \n",
       "\n",
       "                                                    salarioMensual  \\\n",
       "cargo                                                                \n",
       "ADMINISTRADOR I                                                  1   \n",
       "ADMINISTRADOR II                                                 2   \n",
       "ADMINISTRADOR III                                                3   \n",
       "ADMINISTRADOR REGIONAL                                          21   \n",
       "AGENTE DE SEGURIDAD II                                           4   \n",
       "...                                                            ...   \n",
       "SUPERVISOR DE MANTENIMIENTO                                      4   \n",
       "SUPERVISOR DE OPERACIONES                                        1   \n",
       "TECNICO EN REPARACION DE EQUIPO DE  COMUNICACIONES              65   \n",
       "TRABAJADOR MANUAL  I                                           128   \n",
       "TRABAJADOR SOCIAL GENERAL I                                      6   \n",
       "\n",
       "                                                    sobresueldo  \\\n",
       "cargo                                                             \n",
       "ADMINISTRADOR I                                               1   \n",
       "ADMINISTRADOR II                                              2   \n",
       "ADMINISTRADOR III                                             3   \n",
       "ADMINISTRADOR REGIONAL                                       21   \n",
       "AGENTE DE SEGURIDAD II                                        4   \n",
       "...                                                         ...   \n",
       "SUPERVISOR DE MANTENIMIENTO                                   4   \n",
       "SUPERVISOR DE OPERACIONES                                     1   \n",
       "TECNICO EN REPARACION DE EQUIPO DE  COMUNICACIONES           65   \n",
       "TRABAJADOR MANUAL  I                                        128   \n",
       "TRABAJADOR SOCIAL GENERAL I                                   6   \n",
       "\n",
       "                                                    inicioLaboral  \\\n",
       "cargo                                                               \n",
       "ADMINISTRADOR I                                                 1   \n",
       "ADMINISTRADOR II                                                2   \n",
       "ADMINISTRADOR III                                               3   \n",
       "ADMINISTRADOR REGIONAL                                         21   \n",
       "AGENTE DE SEGURIDAD II                                          4   \n",
       "...                                                           ...   \n",
       "SUPERVISOR DE MANTENIMIENTO                                     4   \n",
       "SUPERVISOR DE OPERACIONES                                       1   \n",
       "TECNICO EN REPARACION DE EQUIPO DE  COMUNICACIONES             65   \n",
       "TRABAJADOR MANUAL  I                                          128   \n",
       "TRABAJADOR SOCIAL GENERAL I                                     6   \n",
       "\n",
       "                                                    objetoGastos  estatus  \n",
       "cargo                                                                      \n",
       "ADMINISTRADOR I                                                1        1  \n",
       "ADMINISTRADOR II                                               2        2  \n",
       "ADMINISTRADOR III                                              3        3  \n",
       "ADMINISTRADOR REGIONAL                                        21       21  \n",
       "AGENTE DE SEGURIDAD II                                         4        4  \n",
       "...                                                          ...      ...  \n",
       "SUPERVISOR DE MANTENIMIENTO                                    4        4  \n",
       "SUPERVISOR DE OPERACIONES                                      1        1  \n",
       "TECNICO EN REPARACION DE EQUIPO DE  COMUNICACIONES            65       65  \n",
       "TRABAJADOR MANUAL  I                                         128      128  \n",
       "TRABAJADOR SOCIAL GENERAL I                                    6        6  \n",
       "\n",
       "[129 rows x 11 columns]"
      ]
     },
     "execution_count": 18,
     "metadata": {},
     "output_type": "execute_result"
    }
   ],
   "source": [
    "dataset.groupby(['cargo']).count()"
   ]
  },
  {
   "cell_type": "code",
   "execution_count": 19,
   "metadata": {},
   "outputs": [],
   "source": [
    "Countcargo = dataset.get([\"cargo\",\"genero\",\"salarioMensual\",\"estatus\"],)"
   ]
  },
  {
   "cell_type": "code",
   "execution_count": 20,
   "metadata": {},
   "outputs": [],
   "source": [
    "Countcargo = Countcargo.set_index('cargo')"
   ]
  },
  {
   "cell_type": "code",
   "execution_count": 21,
   "metadata": {},
   "outputs": [
    {
     "data": {
      "text/html": [
       "<div>\n",
       "<style scoped>\n",
       "    .dataframe tbody tr th:only-of-type {\n",
       "        vertical-align: middle;\n",
       "    }\n",
       "\n",
       "    .dataframe tbody tr th {\n",
       "        vertical-align: top;\n",
       "    }\n",
       "\n",
       "    .dataframe thead th {\n",
       "        text-align: right;\n",
       "    }\n",
       "</style>\n",
       "<table border=\"1\" class=\"dataframe\">\n",
       "  <thead>\n",
       "    <tr style=\"text-align: right;\">\n",
       "      <th></th>\n",
       "      <th>genero</th>\n",
       "      <th>salarioMensual</th>\n",
       "      <th>estatus</th>\n",
       "    </tr>\n",
       "    <tr>\n",
       "      <th>cargo</th>\n",
       "      <th></th>\n",
       "      <th></th>\n",
       "      <th></th>\n",
       "    </tr>\n",
       "  </thead>\n",
       "  <tbody>\n",
       "    <tr>\n",
       "      <th>ESTADISTICO CENSAL I</th>\n",
       "      <td>M</td>\n",
       "      <td>700.0</td>\n",
       "      <td>EVENTUAL</td>\n",
       "    </tr>\n",
       "    <tr>\n",
       "      <th>CONDUCTOR DE VEHICULO   I</th>\n",
       "      <td>M</td>\n",
       "      <td>837.0</td>\n",
       "      <td>PERMANENTE</td>\n",
       "    </tr>\n",
       "    <tr>\n",
       "      <th>AUDITOR FISCAL III</th>\n",
       "      <td>M</td>\n",
       "      <td>1198.0</td>\n",
       "      <td>PERMANENTE</td>\n",
       "    </tr>\n",
       "    <tr>\n",
       "      <th>ESTADISTICO II</th>\n",
       "      <td>M</td>\n",
       "      <td>1548.0</td>\n",
       "      <td>PERMANENTE</td>\n",
       "    </tr>\n",
       "    <tr>\n",
       "      <th>TECNICO EN REPARACION DE EQUIPO DE  COMUNICACIONES</th>\n",
       "      <td>M</td>\n",
       "      <td>1300.0</td>\n",
       "      <td>EVENTUAL</td>\n",
       "    </tr>\n",
       "  </tbody>\n",
       "</table>\n",
       "</div>"
      ],
      "text/plain": [
       "                                                   genero  salarioMensual  \\\n",
       "cargo                                                                       \n",
       "ESTADISTICO CENSAL I                                    M           700.0   \n",
       "CONDUCTOR DE VEHICULO   I                               M           837.0   \n",
       "AUDITOR FISCAL III                                      M          1198.0   \n",
       "ESTADISTICO II                                          M          1548.0   \n",
       "TECNICO EN REPARACION DE EQUIPO DE  COMUNICACIONES      M          1300.0   \n",
       "\n",
       "                                                       estatus  \n",
       "cargo                                                           \n",
       "ESTADISTICO CENSAL I                                  EVENTUAL  \n",
       "CONDUCTOR DE VEHICULO   I                           PERMANENTE  \n",
       "AUDITOR FISCAL III                                  PERMANENTE  \n",
       "ESTADISTICO II                                      PERMANENTE  \n",
       "TECNICO EN REPARACION DE EQUIPO DE  COMUNICACIONES    EVENTUAL  "
      ]
     },
     "execution_count": 21,
     "metadata": {},
     "output_type": "execute_result"
    }
   ],
   "source": [
    "Countcargo.head()"
   ]
  },
  {
   "cell_type": "code",
   "execution_count": 22,
   "metadata": {},
   "outputs": [
    {
     "data": {
      "text/html": [
       "<div>\n",
       "<style scoped>\n",
       "    .dataframe tbody tr th:only-of-type {\n",
       "        vertical-align: middle;\n",
       "    }\n",
       "\n",
       "    .dataframe tbody tr th {\n",
       "        vertical-align: top;\n",
       "    }\n",
       "\n",
       "    .dataframe thead th {\n",
       "        text-align: right;\n",
       "    }\n",
       "</style>\n",
       "<table border=\"1\" class=\"dataframe\">\n",
       "  <thead>\n",
       "    <tr style=\"text-align: right;\">\n",
       "      <th></th>\n",
       "      <th>genero</th>\n",
       "      <th>salarioMensual</th>\n",
       "      <th>estatus</th>\n",
       "    </tr>\n",
       "    <tr>\n",
       "      <th>cargo</th>\n",
       "      <th></th>\n",
       "      <th></th>\n",
       "      <th></th>\n",
       "    </tr>\n",
       "  </thead>\n",
       "  <tbody>\n",
       "    <tr>\n",
       "      <th>AUDITOR II</th>\n",
       "      <td>F</td>\n",
       "      <td>1932.0</td>\n",
       "      <td>PERMANENTE</td>\n",
       "    </tr>\n",
       "    <tr>\n",
       "      <th>ASISTENTE ADMINISTRATIVO II</th>\n",
       "      <td>F</td>\n",
       "      <td>1160.0</td>\n",
       "      <td>PERMANENTE</td>\n",
       "    </tr>\n",
       "    <tr>\n",
       "      <th>AUDITOR FISCAL III</th>\n",
       "      <td>F</td>\n",
       "      <td>1359.0</td>\n",
       "      <td>PERMANENTE</td>\n",
       "    </tr>\n",
       "    <tr>\n",
       "      <th>ANALISTA DE SISTEMAS Y METODOS  INFORMATICOS I</th>\n",
       "      <td>F</td>\n",
       "      <td>1579.0</td>\n",
       "      <td>PERMANENTE</td>\n",
       "    </tr>\n",
       "    <tr>\n",
       "      <th>JEFE DE AUDITORIA DE CONTRALORIA I (EXTERNA)</th>\n",
       "      <td>F</td>\n",
       "      <td>1824.0</td>\n",
       "      <td>PERMANENTE</td>\n",
       "    </tr>\n",
       "  </tbody>\n",
       "</table>\n",
       "</div>"
      ],
      "text/plain": [
       "                                               genero  salarioMensual  \\\n",
       "cargo                                                                   \n",
       "AUDITOR II                                          F          1932.0   \n",
       "ASISTENTE ADMINISTRATIVO II                         F          1160.0   \n",
       "AUDITOR FISCAL III                                  F          1359.0   \n",
       "ANALISTA DE SISTEMAS Y METODOS  INFORMATICOS I      F          1579.0   \n",
       "JEFE DE AUDITORIA DE CONTRALORIA I (EXTERNA)        F          1824.0   \n",
       "\n",
       "                                                   estatus  \n",
       "cargo                                                       \n",
       "AUDITOR II                                      PERMANENTE  \n",
       "ASISTENTE ADMINISTRATIVO II                     PERMANENTE  \n",
       "AUDITOR FISCAL III                              PERMANENTE  \n",
       "ANALISTA DE SISTEMAS Y METODOS  INFORMATICOS I  PERMANENTE  \n",
       "JEFE DE AUDITORIA DE CONTRALORIA I (EXTERNA)    PERMANENTE  "
      ]
     },
     "execution_count": 22,
     "metadata": {},
     "output_type": "execute_result"
    }
   ],
   "source": [
    "Countcargo.tail()"
   ]
  },
  {
   "cell_type": "code",
   "execution_count": 23,
   "metadata": {},
   "outputs": [
    {
     "name": "stdout",
     "output_type": "stream",
     "text": [
      "                                                    salarioMensual\n",
      "cargo                                                             \n",
      "ADMINISTRADOR I                                             2500.0\n",
      "ADMINISTRADOR II                                            4956.0\n",
      "ADMINISTRADOR III                                           8162.0\n",
      "ADMINISTRADOR REGIONAL                                     45723.6\n",
      "AGENTE DE SEGURIDAD II                                      5909.0\n",
      "...                                                            ...\n",
      "SUPERVISOR DE MANTENIMIENTO                                 5152.4\n",
      "SUPERVISOR DE OPERACIONES                                   1909.0\n",
      "TECNICO EN REPARACION DE EQUIPO DE  COMUNICACIONES         90207.3\n",
      "TRABAJADOR MANUAL  I                                      103648.0\n",
      "TRABAJADOR SOCIAL GENERAL I                                10233.0\n",
      "\n",
      "[129 rows x 1 columns]\n"
     ]
    },
    {
     "name": "stderr",
     "output_type": "stream",
     "text": [
      "C:\\Users\\danie\\AppData\\Local\\Temp\\ipykernel_26056\\2211520094.py:1: FutureWarning: The default value of numeric_only in DataFrameGroupBy.sum is deprecated. In a future version, numeric_only will default to False. Either specify numeric_only or select only columns which should be valid for the function.\n",
      "  print(Countcargo.groupby(['cargo']).sum())\n"
     ]
    }
   ],
   "source": [
    "print(Countcargo.groupby(['cargo']).sum())"
   ]
  },
  {
   "cell_type": "code",
   "execution_count": 24,
   "metadata": {},
   "outputs": [
    {
     "data": {
      "text/html": [
       "<div>\n",
       "<style scoped>\n",
       "    .dataframe tbody tr th:only-of-type {\n",
       "        vertical-align: middle;\n",
       "    }\n",
       "\n",
       "    .dataframe tbody tr th {\n",
       "        vertical-align: top;\n",
       "    }\n",
       "\n",
       "    .dataframe thead th {\n",
       "        text-align: right;\n",
       "    }\n",
       "</style>\n",
       "<table border=\"1\" class=\"dataframe\">\n",
       "  <thead>\n",
       "    <tr style=\"text-align: right;\">\n",
       "      <th></th>\n",
       "      <th>genero</th>\n",
       "      <th>salarioMensual</th>\n",
       "      <th>estatus</th>\n",
       "    </tr>\n",
       "    <tr>\n",
       "      <th>cargo</th>\n",
       "      <th></th>\n",
       "      <th></th>\n",
       "      <th></th>\n",
       "    </tr>\n",
       "  </thead>\n",
       "  <tbody>\n",
       "    <tr>\n",
       "      <th>ADMINISTRADOR I</th>\n",
       "      <td>F</td>\n",
       "      <td>2500.0</td>\n",
       "      <td>PERMANENTE</td>\n",
       "    </tr>\n",
       "    <tr>\n",
       "      <th>ADMINISTRADOR II</th>\n",
       "      <td>M</td>\n",
       "      <td>2450.0</td>\n",
       "      <td>PERMANENTE</td>\n",
       "    </tr>\n",
       "    <tr>\n",
       "      <th>ADMINISTRADOR II</th>\n",
       "      <td>M</td>\n",
       "      <td>2506.0</td>\n",
       "      <td>PERMANENTE</td>\n",
       "    </tr>\n",
       "  </tbody>\n",
       "</table>\n",
       "</div>"
      ],
      "text/plain": [
       "                 genero  salarioMensual     estatus\n",
       "cargo                                              \n",
       "ADMINISTRADOR I       F          2500.0  PERMANENTE\n",
       "ADMINISTRADOR II      M          2450.0  PERMANENTE\n",
       "ADMINISTRADOR II      M          2506.0  PERMANENTE"
      ]
     },
     "execution_count": 24,
     "metadata": {},
     "output_type": "execute_result"
    }
   ],
   "source": [
    "Countcargo.loc[['ADMINISTRADOR I','ADMINISTRADOR II']]"
   ]
  },
  {
   "cell_type": "code",
   "execution_count": 25,
   "metadata": {},
   "outputs": [],
   "source": [
    "from ipywidgets import interact"
   ]
  },
  {
   "cell_type": "code",
   "execution_count": 27,
   "metadata": {},
   "outputs": [
    {
     "data": {
      "application/vnd.jupyter.widget-view+json": {
       "model_id": "c0e612f806ee42dea00de77b735e81bd",
       "version_major": 2,
       "version_minor": 0
      },
      "text/plain": [
       "interactive(children=(Dropdown(description='cargo', options=('ESTADISTICO CENSAL I', 'CONDUCTOR DE VEHICULO   …"
      ]
     },
     "metadata": {},
     "output_type": "display_data"
    }
   ],
   "source": [
    "@interact\n",
    "def filter_cargo(cargo = list(dataset.cargo.unique())):\n",
    "    return dataset[dataset.cargo == cargo].head()"
   ]
  },
  {
   "cell_type": "code",
   "execution_count": 34,
   "metadata": {},
   "outputs": [],
   "source": [
    "pd.options.plotting.backend = 'plotly'"
   ]
  },
  {
   "cell_type": "code",
   "execution_count": 38,
   "metadata": {},
   "outputs": [
    {
     "data": {
      "application/vnd.plotly.v1+json": {
       "config": {
        "plotlyServerURL": "https://plot.ly"
       },
       "data": [
        {
         "hovertemplate": "estatus=EVENTUAL<br>cargo=%{x}<br>salarioMensual=%{y}<br>posicion=%{marker.size}<extra></extra>",
         "legendgroup": "EVENTUAL",
         "marker": {
          "color": "#636efa",
          "size": [
           43192,
           43150,
           43084,
           43127,
           43180,
           43058,
           43086,
           43166,
           43179,
           43043,
           43171,
           43039,
           43169,
           43064,
           43042,
           43175,
           43136,
           43040,
           43160,
           43071,
           43172,
           43186,
           43067,
           43074,
           43155,
           43070,
           43060,
           43054,
           43113,
           43200,
           43051,
           43189,
           43124,
           43146,
           43038,
           43162,
           43137,
           43059,
           43073,
           43173,
           43035,
           43183,
           43107,
           43195,
           43191,
           43063,
           43145,
           43112,
           43123,
           43106,
           43102,
           43118,
           43159,
           43182,
           43132,
           43187,
           43177,
           43196,
           43133,
           43188,
           43111,
           43066,
           43174,
           43056,
           43101,
           43161,
           43103,
           43199,
           43044,
           43062,
           43152,
           43203,
           43185,
           43125,
           43198,
           43068,
           43205,
           43158,
           43108,
           43036,
           43105,
           43201,
           43110,
           43129,
           43138,
           43134,
           43202,
           43154,
           43206,
           43176,
           43117,
           43075,
           43076,
           43057,
           43139,
           43053,
           43120,
           43100,
           43153,
           43163,
           43143,
           43142,
           43115,
           43088,
           43128,
           43170,
           43164,
           43046,
           43193,
           43147,
           43069,
           43167,
           43140,
           43178,
           43104,
           43119,
           43168,
           43116,
           43194,
           43083,
           43050,
           43085,
           43045,
           43049,
           43041,
           43087,
           43151,
           43148,
           43135,
           43089,
           43055,
           43156,
           43144,
           43181,
           43077,
           43078,
           43114,
           43157,
           43047,
           43072,
           43065,
           43204,
           43141,
           43052,
           43126,
           43121,
           43197,
           43037,
           43061,
           43130,
           43131,
           43165,
           43122,
           43184,
           43048,
           43149
          ],
          "sizemode": "area",
          "sizeref": 108.015,
          "symbol": "circle"
         },
         "mode": "markers",
         "name": "EVENTUAL",
         "orientation": "v",
         "showlegend": true,
         "type": "scatter",
         "x": [
          "ESTADISTICO CENSAL I",
          "ESTADISTICO CENSAL I",
          "ESTADISTICO CENSAL I",
          "ESTADISTICO CENSAL I",
          "ESTADISTICO CENSAL I",
          "ESTADISTICO CENSAL I",
          "ESTADISTICO CENSAL I",
          "ESTADISTICO CENSAL I",
          "ESTADISTICO CENSAL I",
          "ESTADISTICO CENSAL I",
          "ESTADISTICO CENSAL I",
          "ESTADISTICO CENSAL I",
          "ESTADISTICO CENSAL I",
          "ESTADISTICO CENSAL I",
          "ESTADISTICO CENSAL I",
          "ESTADISTICO CENSAL I",
          "ESTADISTICO CENSAL I",
          "ESTADISTICO CENSAL I",
          "ESTADISTICO CENSAL I",
          "ESTADISTICO CENSAL I",
          "ESTADISTICO CENSAL I",
          "ESTADISTICO CENSAL I",
          "ESTADISTICO CENSAL I",
          "ESTADISTICO CENSAL I",
          "ESTADISTICO CENSAL I",
          "ESTADISTICO CENSAL I",
          "ESTADISTICO CENSAL I",
          "ESTADISTICO CENSAL I",
          "ESTADISTICO CENSAL I",
          "ESTADISTICO CENSAL I",
          "ESTADISTICO CENSAL I",
          "ESTADISTICO CENSAL I",
          "ESTADISTICO CENSAL I",
          "ESTADISTICO CENSAL I",
          "ESTADISTICO CENSAL I",
          "ESTADISTICO CENSAL I",
          "ESTADISTICO CENSAL I",
          "ESTADISTICO CENSAL I",
          "ESTADISTICO CENSAL I",
          "ESTADISTICO CENSAL I",
          "ESTADISTICO CENSAL I",
          "ESTADISTICO CENSAL I",
          "ESTADISTICO CENSAL I",
          "ESTADISTICO CENSAL I",
          "ESTADISTICO CENSAL I",
          "ESTADISTICO CENSAL I",
          "ESTADISTICO CENSAL I",
          "ESTADISTICO CENSAL I",
          "ESTADISTICO CENSAL I",
          "ESTADISTICO CENSAL I",
          "ESTADISTICO CENSAL I",
          "ESTADISTICO CENSAL I",
          "ESTADISTICO CENSAL I",
          "ESTADISTICO CENSAL I",
          "ESTADISTICO CENSAL I",
          "ESTADISTICO CENSAL I",
          "ESTADISTICO CENSAL I",
          "ESTADISTICO CENSAL I",
          "ESTADISTICO CENSAL I",
          "ESTADISTICO CENSAL I",
          "ESTADISTICO CENSAL I",
          "ESTADISTICO CENSAL I",
          "ESTADISTICO CENSAL I",
          "ESTADISTICO CENSAL I",
          "ESTADISTICO CENSAL I",
          "ESTADISTICO CENSAL I",
          "ESTADISTICO CENSAL I",
          "ESTADISTICO CENSAL I",
          "ESTADISTICO CENSAL I",
          "ESTADISTICO CENSAL I",
          "ESTADISTICO CENSAL I",
          "ESTADISTICO CENSAL I",
          "ESTADISTICO CENSAL I",
          "ESTADISTICO CENSAL I",
          "ESTADISTICO CENSAL I",
          "ESTADISTICO CENSAL I",
          "ESTADISTICO CENSAL I",
          "ESTADISTICO CENSAL I",
          "ESTADISTICO CENSAL I",
          "ESTADISTICO CENSAL I",
          "ESTADISTICO CENSAL I",
          "ESTADISTICO CENSAL I",
          "ESTADISTICO CENSAL I",
          "ESTADISTICO CENSAL I",
          "ESTADISTICO CENSAL I",
          "ESTADISTICO CENSAL I",
          "ESTADISTICO CENSAL I",
          "ESTADISTICO CENSAL I",
          "ESTADISTICO CENSAL I",
          "ESTADISTICO CENSAL I",
          "ESTADISTICO CENSAL I",
          "ESTADISTICO CENSAL I",
          "ESTADISTICO CENSAL I",
          "ESTADISTICO CENSAL I",
          "ESTADISTICO CENSAL I",
          "ESTADISTICO CENSAL I",
          "ESTADISTICO CENSAL I",
          "ESTADISTICO CENSAL I",
          "ESTADISTICO CENSAL I",
          "ESTADISTICO CENSAL I",
          "ESTADISTICO CENSAL I",
          "ESTADISTICO CENSAL I",
          "ESTADISTICO CENSAL I",
          "ESTADISTICO CENSAL I",
          "ESTADISTICO CENSAL I",
          "ESTADISTICO CENSAL I",
          "ESTADISTICO CENSAL I",
          "ESTADISTICO CENSAL I",
          "ESTADISTICO CENSAL I",
          "ESTADISTICO CENSAL I",
          "ESTADISTICO CENSAL I",
          "ESTADISTICO CENSAL I",
          "ESTADISTICO CENSAL I",
          "ESTADISTICO CENSAL I",
          "ESTADISTICO CENSAL I",
          "ESTADISTICO CENSAL I",
          "ESTADISTICO CENSAL I",
          "ESTADISTICO CENSAL I",
          "ESTADISTICO CENSAL I",
          "ESTADISTICO CENSAL I",
          "ESTADISTICO CENSAL I",
          "ESTADISTICO CENSAL I",
          "ESTADISTICO CENSAL I",
          "ESTADISTICO CENSAL I",
          "ESTADISTICO CENSAL I",
          "ESTADISTICO CENSAL I",
          "ESTADISTICO CENSAL I",
          "ESTADISTICO CENSAL I",
          "ESTADISTICO CENSAL I",
          "ESTADISTICO CENSAL I",
          "ESTADISTICO CENSAL I",
          "ESTADISTICO CENSAL I",
          "ESTADISTICO CENSAL I",
          "ESTADISTICO CENSAL I",
          "ESTADISTICO CENSAL I",
          "ESTADISTICO CENSAL I",
          "ESTADISTICO CENSAL I",
          "ESTADISTICO CENSAL I",
          "ESTADISTICO CENSAL I",
          "ESTADISTICO CENSAL I",
          "ESTADISTICO CENSAL I",
          "ESTADISTICO CENSAL I",
          "ESTADISTICO CENSAL I",
          "ESTADISTICO CENSAL I",
          "ESTADISTICO CENSAL I",
          "ESTADISTICO CENSAL I",
          "ESTADISTICO CENSAL I",
          "ESTADISTICO CENSAL I",
          "ESTADISTICO CENSAL I",
          "ESTADISTICO CENSAL I",
          "ESTADISTICO CENSAL I",
          "ESTADISTICO CENSAL I",
          "ESTADISTICO CENSAL I",
          "ESTADISTICO CENSAL I",
          "ESTADISTICO CENSAL I",
          "ESTADISTICO CENSAL I"
         ],
         "xaxis": "x",
         "y": [
          700,
          700,
          700,
          700,
          700,
          700,
          700,
          700,
          700,
          700,
          700,
          700,
          700,
          700,
          700,
          700,
          700,
          700,
          700,
          700,
          700,
          700,
          700,
          700,
          700,
          700,
          700,
          700,
          700,
          700,
          700,
          700,
          700,
          700,
          700,
          700,
          700,
          700,
          700,
          700,
          700,
          700,
          700,
          700,
          700,
          700,
          700,
          700,
          700,
          700,
          700,
          700,
          700,
          700,
          700,
          700,
          700,
          700,
          700,
          700,
          700,
          700,
          700,
          700,
          700,
          700,
          700,
          700,
          700,
          700,
          700,
          700,
          700,
          700,
          700,
          700,
          700,
          700,
          700,
          700,
          700,
          700,
          700,
          700,
          700,
          700,
          700,
          700,
          700,
          700,
          700,
          700,
          700,
          700,
          700,
          700,
          700,
          700,
          700,
          700,
          700,
          700,
          700,
          700,
          700,
          700,
          700,
          700,
          700,
          700,
          700,
          700,
          700,
          700,
          700,
          700,
          700,
          700,
          700,
          700,
          700,
          700,
          700,
          700,
          700,
          700,
          700,
          700,
          700,
          700,
          700,
          700,
          700,
          700,
          700,
          700,
          700,
          700,
          700,
          700,
          700,
          700,
          700,
          700,
          700,
          700,
          700,
          700,
          700,
          700,
          700,
          700,
          700,
          700,
          700,
          700
         ],
         "yaxis": "y"
        }
       ],
       "layout": {
        "legend": {
         "itemsizing": "constant",
         "title": {
          "text": "estatus"
         },
         "tracegroupgap": 0
        },
        "margin": {
         "t": 60
        },
        "template": {
         "data": {
          "bar": [
           {
            "error_x": {
             "color": "#2a3f5f"
            },
            "error_y": {
             "color": "#2a3f5f"
            },
            "marker": {
             "line": {
              "color": "#E5ECF6",
              "width": 0.5
             },
             "pattern": {
              "fillmode": "overlay",
              "size": 10,
              "solidity": 0.2
             }
            },
            "type": "bar"
           }
          ],
          "barpolar": [
           {
            "marker": {
             "line": {
              "color": "#E5ECF6",
              "width": 0.5
             },
             "pattern": {
              "fillmode": "overlay",
              "size": 10,
              "solidity": 0.2
             }
            },
            "type": "barpolar"
           }
          ],
          "carpet": [
           {
            "aaxis": {
             "endlinecolor": "#2a3f5f",
             "gridcolor": "white",
             "linecolor": "white",
             "minorgridcolor": "white",
             "startlinecolor": "#2a3f5f"
            },
            "baxis": {
             "endlinecolor": "#2a3f5f",
             "gridcolor": "white",
             "linecolor": "white",
             "minorgridcolor": "white",
             "startlinecolor": "#2a3f5f"
            },
            "type": "carpet"
           }
          ],
          "choropleth": [
           {
            "colorbar": {
             "outlinewidth": 0,
             "ticks": ""
            },
            "type": "choropleth"
           }
          ],
          "contour": [
           {
            "colorbar": {
             "outlinewidth": 0,
             "ticks": ""
            },
            "colorscale": [
             [
              0,
              "#0d0887"
             ],
             [
              0.1111111111111111,
              "#46039f"
             ],
             [
              0.2222222222222222,
              "#7201a8"
             ],
             [
              0.3333333333333333,
              "#9c179e"
             ],
             [
              0.4444444444444444,
              "#bd3786"
             ],
             [
              0.5555555555555556,
              "#d8576b"
             ],
             [
              0.6666666666666666,
              "#ed7953"
             ],
             [
              0.7777777777777778,
              "#fb9f3a"
             ],
             [
              0.8888888888888888,
              "#fdca26"
             ],
             [
              1,
              "#f0f921"
             ]
            ],
            "type": "contour"
           }
          ],
          "contourcarpet": [
           {
            "colorbar": {
             "outlinewidth": 0,
             "ticks": ""
            },
            "type": "contourcarpet"
           }
          ],
          "heatmap": [
           {
            "colorbar": {
             "outlinewidth": 0,
             "ticks": ""
            },
            "colorscale": [
             [
              0,
              "#0d0887"
             ],
             [
              0.1111111111111111,
              "#46039f"
             ],
             [
              0.2222222222222222,
              "#7201a8"
             ],
             [
              0.3333333333333333,
              "#9c179e"
             ],
             [
              0.4444444444444444,
              "#bd3786"
             ],
             [
              0.5555555555555556,
              "#d8576b"
             ],
             [
              0.6666666666666666,
              "#ed7953"
             ],
             [
              0.7777777777777778,
              "#fb9f3a"
             ],
             [
              0.8888888888888888,
              "#fdca26"
             ],
             [
              1,
              "#f0f921"
             ]
            ],
            "type": "heatmap"
           }
          ],
          "heatmapgl": [
           {
            "colorbar": {
             "outlinewidth": 0,
             "ticks": ""
            },
            "colorscale": [
             [
              0,
              "#0d0887"
             ],
             [
              0.1111111111111111,
              "#46039f"
             ],
             [
              0.2222222222222222,
              "#7201a8"
             ],
             [
              0.3333333333333333,
              "#9c179e"
             ],
             [
              0.4444444444444444,
              "#bd3786"
             ],
             [
              0.5555555555555556,
              "#d8576b"
             ],
             [
              0.6666666666666666,
              "#ed7953"
             ],
             [
              0.7777777777777778,
              "#fb9f3a"
             ],
             [
              0.8888888888888888,
              "#fdca26"
             ],
             [
              1,
              "#f0f921"
             ]
            ],
            "type": "heatmapgl"
           }
          ],
          "histogram": [
           {
            "marker": {
             "pattern": {
              "fillmode": "overlay",
              "size": 10,
              "solidity": 0.2
             }
            },
            "type": "histogram"
           }
          ],
          "histogram2d": [
           {
            "colorbar": {
             "outlinewidth": 0,
             "ticks": ""
            },
            "colorscale": [
             [
              0,
              "#0d0887"
             ],
             [
              0.1111111111111111,
              "#46039f"
             ],
             [
              0.2222222222222222,
              "#7201a8"
             ],
             [
              0.3333333333333333,
              "#9c179e"
             ],
             [
              0.4444444444444444,
              "#bd3786"
             ],
             [
              0.5555555555555556,
              "#d8576b"
             ],
             [
              0.6666666666666666,
              "#ed7953"
             ],
             [
              0.7777777777777778,
              "#fb9f3a"
             ],
             [
              0.8888888888888888,
              "#fdca26"
             ],
             [
              1,
              "#f0f921"
             ]
            ],
            "type": "histogram2d"
           }
          ],
          "histogram2dcontour": [
           {
            "colorbar": {
             "outlinewidth": 0,
             "ticks": ""
            },
            "colorscale": [
             [
              0,
              "#0d0887"
             ],
             [
              0.1111111111111111,
              "#46039f"
             ],
             [
              0.2222222222222222,
              "#7201a8"
             ],
             [
              0.3333333333333333,
              "#9c179e"
             ],
             [
              0.4444444444444444,
              "#bd3786"
             ],
             [
              0.5555555555555556,
              "#d8576b"
             ],
             [
              0.6666666666666666,
              "#ed7953"
             ],
             [
              0.7777777777777778,
              "#fb9f3a"
             ],
             [
              0.8888888888888888,
              "#fdca26"
             ],
             [
              1,
              "#f0f921"
             ]
            ],
            "type": "histogram2dcontour"
           }
          ],
          "mesh3d": [
           {
            "colorbar": {
             "outlinewidth": 0,
             "ticks": ""
            },
            "type": "mesh3d"
           }
          ],
          "parcoords": [
           {
            "line": {
             "colorbar": {
              "outlinewidth": 0,
              "ticks": ""
             }
            },
            "type": "parcoords"
           }
          ],
          "pie": [
           {
            "automargin": true,
            "type": "pie"
           }
          ],
          "scatter": [
           {
            "fillpattern": {
             "fillmode": "overlay",
             "size": 10,
             "solidity": 0.2
            },
            "type": "scatter"
           }
          ],
          "scatter3d": [
           {
            "line": {
             "colorbar": {
              "outlinewidth": 0,
              "ticks": ""
             }
            },
            "marker": {
             "colorbar": {
              "outlinewidth": 0,
              "ticks": ""
             }
            },
            "type": "scatter3d"
           }
          ],
          "scattercarpet": [
           {
            "marker": {
             "colorbar": {
              "outlinewidth": 0,
              "ticks": ""
             }
            },
            "type": "scattercarpet"
           }
          ],
          "scattergeo": [
           {
            "marker": {
             "colorbar": {
              "outlinewidth": 0,
              "ticks": ""
             }
            },
            "type": "scattergeo"
           }
          ],
          "scattergl": [
           {
            "marker": {
             "colorbar": {
              "outlinewidth": 0,
              "ticks": ""
             }
            },
            "type": "scattergl"
           }
          ],
          "scattermapbox": [
           {
            "marker": {
             "colorbar": {
              "outlinewidth": 0,
              "ticks": ""
             }
            },
            "type": "scattermapbox"
           }
          ],
          "scatterpolar": [
           {
            "marker": {
             "colorbar": {
              "outlinewidth": 0,
              "ticks": ""
             }
            },
            "type": "scatterpolar"
           }
          ],
          "scatterpolargl": [
           {
            "marker": {
             "colorbar": {
              "outlinewidth": 0,
              "ticks": ""
             }
            },
            "type": "scatterpolargl"
           }
          ],
          "scatterternary": [
           {
            "marker": {
             "colorbar": {
              "outlinewidth": 0,
              "ticks": ""
             }
            },
            "type": "scatterternary"
           }
          ],
          "surface": [
           {
            "colorbar": {
             "outlinewidth": 0,
             "ticks": ""
            },
            "colorscale": [
             [
              0,
              "#0d0887"
             ],
             [
              0.1111111111111111,
              "#46039f"
             ],
             [
              0.2222222222222222,
              "#7201a8"
             ],
             [
              0.3333333333333333,
              "#9c179e"
             ],
             [
              0.4444444444444444,
              "#bd3786"
             ],
             [
              0.5555555555555556,
              "#d8576b"
             ],
             [
              0.6666666666666666,
              "#ed7953"
             ],
             [
              0.7777777777777778,
              "#fb9f3a"
             ],
             [
              0.8888888888888888,
              "#fdca26"
             ],
             [
              1,
              "#f0f921"
             ]
            ],
            "type": "surface"
           }
          ],
          "table": [
           {
            "cells": {
             "fill": {
              "color": "#EBF0F8"
             },
             "line": {
              "color": "white"
             }
            },
            "header": {
             "fill": {
              "color": "#C8D4E3"
             },
             "line": {
              "color": "white"
             }
            },
            "type": "table"
           }
          ]
         },
         "layout": {
          "annotationdefaults": {
           "arrowcolor": "#2a3f5f",
           "arrowhead": 0,
           "arrowwidth": 1
          },
          "autotypenumbers": "strict",
          "coloraxis": {
           "colorbar": {
            "outlinewidth": 0,
            "ticks": ""
           }
          },
          "colorscale": {
           "diverging": [
            [
             0,
             "#8e0152"
            ],
            [
             0.1,
             "#c51b7d"
            ],
            [
             0.2,
             "#de77ae"
            ],
            [
             0.3,
             "#f1b6da"
            ],
            [
             0.4,
             "#fde0ef"
            ],
            [
             0.5,
             "#f7f7f7"
            ],
            [
             0.6,
             "#e6f5d0"
            ],
            [
             0.7,
             "#b8e186"
            ],
            [
             0.8,
             "#7fbc41"
            ],
            [
             0.9,
             "#4d9221"
            ],
            [
             1,
             "#276419"
            ]
           ],
           "sequential": [
            [
             0,
             "#0d0887"
            ],
            [
             0.1111111111111111,
             "#46039f"
            ],
            [
             0.2222222222222222,
             "#7201a8"
            ],
            [
             0.3333333333333333,
             "#9c179e"
            ],
            [
             0.4444444444444444,
             "#bd3786"
            ],
            [
             0.5555555555555556,
             "#d8576b"
            ],
            [
             0.6666666666666666,
             "#ed7953"
            ],
            [
             0.7777777777777778,
             "#fb9f3a"
            ],
            [
             0.8888888888888888,
             "#fdca26"
            ],
            [
             1,
             "#f0f921"
            ]
           ],
           "sequentialminus": [
            [
             0,
             "#0d0887"
            ],
            [
             0.1111111111111111,
             "#46039f"
            ],
            [
             0.2222222222222222,
             "#7201a8"
            ],
            [
             0.3333333333333333,
             "#9c179e"
            ],
            [
             0.4444444444444444,
             "#bd3786"
            ],
            [
             0.5555555555555556,
             "#d8576b"
            ],
            [
             0.6666666666666666,
             "#ed7953"
            ],
            [
             0.7777777777777778,
             "#fb9f3a"
            ],
            [
             0.8888888888888888,
             "#fdca26"
            ],
            [
             1,
             "#f0f921"
            ]
           ]
          },
          "colorway": [
           "#636efa",
           "#EF553B",
           "#00cc96",
           "#ab63fa",
           "#FFA15A",
           "#19d3f3",
           "#FF6692",
           "#B6E880",
           "#FF97FF",
           "#FECB52"
          ],
          "font": {
           "color": "#2a3f5f"
          },
          "geo": {
           "bgcolor": "white",
           "lakecolor": "white",
           "landcolor": "#E5ECF6",
           "showlakes": true,
           "showland": true,
           "subunitcolor": "white"
          },
          "hoverlabel": {
           "align": "left"
          },
          "hovermode": "closest",
          "mapbox": {
           "style": "light"
          },
          "paper_bgcolor": "white",
          "plot_bgcolor": "#E5ECF6",
          "polar": {
           "angularaxis": {
            "gridcolor": "white",
            "linecolor": "white",
            "ticks": ""
           },
           "bgcolor": "#E5ECF6",
           "radialaxis": {
            "gridcolor": "white",
            "linecolor": "white",
            "ticks": ""
           }
          },
          "scene": {
           "xaxis": {
            "backgroundcolor": "#E5ECF6",
            "gridcolor": "white",
            "gridwidth": 2,
            "linecolor": "white",
            "showbackground": true,
            "ticks": "",
            "zerolinecolor": "white"
           },
           "yaxis": {
            "backgroundcolor": "#E5ECF6",
            "gridcolor": "white",
            "gridwidth": 2,
            "linecolor": "white",
            "showbackground": true,
            "ticks": "",
            "zerolinecolor": "white"
           },
           "zaxis": {
            "backgroundcolor": "#E5ECF6",
            "gridcolor": "white",
            "gridwidth": 2,
            "linecolor": "white",
            "showbackground": true,
            "ticks": "",
            "zerolinecolor": "white"
           }
          },
          "shapedefaults": {
           "line": {
            "color": "#2a3f5f"
           }
          },
          "ternary": {
           "aaxis": {
            "gridcolor": "white",
            "linecolor": "white",
            "ticks": ""
           },
           "baxis": {
            "gridcolor": "white",
            "linecolor": "white",
            "ticks": ""
           },
           "bgcolor": "#E5ECF6",
           "caxis": {
            "gridcolor": "white",
            "linecolor": "white",
            "ticks": ""
           }
          },
          "title": {
           "x": 0.05
          },
          "xaxis": {
           "automargin": true,
           "gridcolor": "white",
           "linecolor": "white",
           "ticks": "",
           "title": {
            "standoff": 15
           },
           "zerolinecolor": "white",
           "zerolinewidth": 2
          },
          "yaxis": {
           "automargin": true,
           "gridcolor": "white",
           "linecolor": "white",
           "ticks": "",
           "title": {
            "standoff": 15
           },
           "zerolinecolor": "white",
           "zerolinewidth": 2
          }
         }
        },
        "xaxis": {
         "anchor": "y",
         "domain": [
          0,
          1
         ],
         "title": {
          "text": "cargo"
         }
        },
        "yaxis": {
         "anchor": "x",
         "domain": [
          0,
          1
         ],
         "title": {
          "text": "salarioMensual"
         }
        }
       }
      }
     },
     "metadata": {},
     "output_type": "display_data"
    },
    {
     "data": {
      "application/vnd.jupyter.widget-view+json": {
       "model_id": "64da711345f74d03b2e580d5c9f74b75",
       "version_major": 2,
       "version_minor": 0
      },
      "text/plain": [
       "interactive(children=(Dropdown(description='cargo', options=('ESTADISTICO CENSAL I', 'CONDUCTOR DE VEHICULO   …"
      ]
     },
     "metadata": {},
     "output_type": "display_data"
    },
    {
     "data": {
      "application/vnd.plotly.v1+json": {
       "config": {
        "plotlyServerURL": "https://plot.ly"
       },
       "data": [
        {
         "hovertemplate": "estatus=PERMANENTE<br>cargo=%{x}<br>salarioMensual=%{y}<br>posicion=%{marker.size}<extra></extra>",
         "legendgroup": "PERMANENTE",
         "marker": {
          "color": "#636efa",
          "size": [
           361,
           2248,
           2497,
           1621,
           2434,
           147,
           2147,
           2004,
           2565,
           2580,
           1462,
           3366,
           522,
           2593,
           2934,
           2165,
           2526,
           2603,
           329,
           2332,
           1568,
           513,
           1072,
           2875,
           3016,
           2509,
           1009,
           2080,
           2140,
           2088,
           3870,
           301,
           3883,
           3879,
           1059,
           2618,
           3380,
           2425,
           3513,
           1064,
           2567,
           3796,
           258,
           2317,
           3379,
           2880,
           296,
           240,
           333,
           1011,
           1654,
           1116,
           2441,
           2577,
           3530,
           2184,
           3473,
           2586,
           2386,
           398,
           2198,
           241,
           1001,
           4173,
           2244,
           350,
           2632,
           2101,
           2213,
           2284,
           2552,
           3330,
           1579,
           2057,
           2125,
           2334,
           1004,
           1013,
           4041,
           366,
           2615,
           345,
           3079,
           2195,
           2155,
           750,
           260,
           1007,
           5998,
           3118,
           2589,
           433,
           1580,
           5376,
           3515,
           2105,
           4043,
           3106,
           23,
           370,
           2238,
           326,
           2092,
           2216,
           2199,
           3896,
           2670,
           2479,
           2575,
           2525,
           2263,
           1565,
           451,
           2341,
           2496,
           2325,
           2671,
           250,
           2622,
           48,
           1002,
           2122,
           390,
           3816,
           354,
           2655,
           1332,
           138,
           2134,
           550,
           363,
           2281,
           2486,
           439,
           322,
           2082,
           2444,
           1673,
           2564,
           4447,
           494,
           828,
           22,
           3898,
           2689,
           244,
           1085,
           2132,
           444,
           2639,
           3227,
           489,
           2551,
           252,
           923,
           3329,
           1080,
           2696,
           1016,
           2555,
           2413,
           24,
           3281,
           3475,
           2176,
           506,
           2220,
           2279,
           2754,
           2532,
           2579,
           1562
          ],
          "sizemode": "area",
          "sizeref": 14.995,
          "symbol": "circle"
         },
         "mode": "markers",
         "name": "PERMANENTE",
         "orientation": "v",
         "showlegend": true,
         "type": "scatter",
         "x": [
          "JEFE DE AUDITORIA DE CONTRALORIA I (EXTERNA)",
          "JEFE DE AUDITORIA DE CONTRALORIA I (EXTERNA)",
          "JEFE DE AUDITORIA DE CONTRALORIA I (EXTERNA)",
          "JEFE DE AUDITORIA DE CONTRALORIA I (EXTERNA)",
          "JEFE DE AUDITORIA DE CONTRALORIA I (EXTERNA)",
          "JEFE DE AUDITORIA DE CONTRALORIA I (EXTERNA)",
          "JEFE DE AUDITORIA DE CONTRALORIA I (EXTERNA)",
          "JEFE DE AUDITORIA DE CONTRALORIA I (EXTERNA)",
          "JEFE DE AUDITORIA DE CONTRALORIA I (EXTERNA)",
          "JEFE DE AUDITORIA DE CONTRALORIA I (EXTERNA)",
          "JEFE DE AUDITORIA DE CONTRALORIA I (EXTERNA)",
          "JEFE DE AUDITORIA DE CONTRALORIA I (EXTERNA)",
          "JEFE DE AUDITORIA DE CONTRALORIA I (EXTERNA)",
          "JEFE DE AUDITORIA DE CONTRALORIA I (EXTERNA)",
          "JEFE DE AUDITORIA DE CONTRALORIA I (EXTERNA)",
          "JEFE DE AUDITORIA DE CONTRALORIA I (EXTERNA)",
          "JEFE DE AUDITORIA DE CONTRALORIA I (EXTERNA)",
          "JEFE DE AUDITORIA DE CONTRALORIA I (EXTERNA)",
          "JEFE DE AUDITORIA DE CONTRALORIA I (EXTERNA)",
          "JEFE DE AUDITORIA DE CONTRALORIA I (EXTERNA)",
          "JEFE DE AUDITORIA DE CONTRALORIA I (EXTERNA)",
          "JEFE DE AUDITORIA DE CONTRALORIA I (EXTERNA)",
          "JEFE DE AUDITORIA DE CONTRALORIA I (EXTERNA)",
          "JEFE DE AUDITORIA DE CONTRALORIA I (EXTERNA)",
          "JEFE DE AUDITORIA DE CONTRALORIA I (EXTERNA)",
          "JEFE DE AUDITORIA DE CONTRALORIA I (EXTERNA)",
          "JEFE DE AUDITORIA DE CONTRALORIA I (EXTERNA)",
          "JEFE DE AUDITORIA DE CONTRALORIA I (EXTERNA)",
          "JEFE DE AUDITORIA DE CONTRALORIA I (EXTERNA)",
          "JEFE DE AUDITORIA DE CONTRALORIA I (EXTERNA)",
          "JEFE DE AUDITORIA DE CONTRALORIA I (EXTERNA)",
          "JEFE DE AUDITORIA DE CONTRALORIA I (EXTERNA)",
          "JEFE DE AUDITORIA DE CONTRALORIA I (EXTERNA)",
          "JEFE DE AUDITORIA DE CONTRALORIA I (EXTERNA)",
          "JEFE DE AUDITORIA DE CONTRALORIA I (EXTERNA)",
          "JEFE DE AUDITORIA DE CONTRALORIA I (EXTERNA)",
          "JEFE DE AUDITORIA DE CONTRALORIA I (EXTERNA)",
          "JEFE DE AUDITORIA DE CONTRALORIA I (EXTERNA)",
          "JEFE DE AUDITORIA DE CONTRALORIA I (EXTERNA)",
          "JEFE DE AUDITORIA DE CONTRALORIA I (EXTERNA)",
          "JEFE DE AUDITORIA DE CONTRALORIA I (EXTERNA)",
          "JEFE DE AUDITORIA DE CONTRALORIA I (EXTERNA)",
          "JEFE DE AUDITORIA DE CONTRALORIA I (EXTERNA)",
          "JEFE DE AUDITORIA DE CONTRALORIA I (EXTERNA)",
          "JEFE DE AUDITORIA DE CONTRALORIA I (EXTERNA)",
          "JEFE DE AUDITORIA DE CONTRALORIA I (EXTERNA)",
          "JEFE DE AUDITORIA DE CONTRALORIA I (EXTERNA)",
          "JEFE DE AUDITORIA DE CONTRALORIA I (EXTERNA)",
          "JEFE DE AUDITORIA DE CONTRALORIA I (EXTERNA)",
          "JEFE DE AUDITORIA DE CONTRALORIA I (EXTERNA)",
          "JEFE DE AUDITORIA DE CONTRALORIA I (EXTERNA)",
          "JEFE DE AUDITORIA DE CONTRALORIA I (EXTERNA)",
          "JEFE DE AUDITORIA DE CONTRALORIA I (EXTERNA)",
          "JEFE DE AUDITORIA DE CONTRALORIA I (EXTERNA)",
          "JEFE DE AUDITORIA DE CONTRALORIA I (EXTERNA)",
          "JEFE DE AUDITORIA DE CONTRALORIA I (EXTERNA)",
          "JEFE DE AUDITORIA DE CONTRALORIA I (EXTERNA)",
          "JEFE DE AUDITORIA DE CONTRALORIA I (EXTERNA)",
          "JEFE DE AUDITORIA DE CONTRALORIA I (EXTERNA)",
          "JEFE DE AUDITORIA DE CONTRALORIA I (EXTERNA)",
          "JEFE DE AUDITORIA DE CONTRALORIA I (EXTERNA)",
          "JEFE DE AUDITORIA DE CONTRALORIA I (EXTERNA)",
          "JEFE DE AUDITORIA DE CONTRALORIA I (EXTERNA)",
          "JEFE DE AUDITORIA DE CONTRALORIA I (EXTERNA)",
          "JEFE DE AUDITORIA DE CONTRALORIA I (EXTERNA)",
          "JEFE DE AUDITORIA DE CONTRALORIA I (EXTERNA)",
          "JEFE DE AUDITORIA DE CONTRALORIA I (EXTERNA)",
          "JEFE DE AUDITORIA DE CONTRALORIA I (EXTERNA)",
          "JEFE DE AUDITORIA DE CONTRALORIA I (EXTERNA)",
          "JEFE DE AUDITORIA DE CONTRALORIA I (EXTERNA)",
          "JEFE DE AUDITORIA DE CONTRALORIA I (EXTERNA)",
          "JEFE DE AUDITORIA DE CONTRALORIA I (EXTERNA)",
          "JEFE DE AUDITORIA DE CONTRALORIA I (EXTERNA)",
          "JEFE DE AUDITORIA DE CONTRALORIA I (EXTERNA)",
          "JEFE DE AUDITORIA DE CONTRALORIA I (EXTERNA)",
          "JEFE DE AUDITORIA DE CONTRALORIA I (EXTERNA)",
          "JEFE DE AUDITORIA DE CONTRALORIA I (EXTERNA)",
          "JEFE DE AUDITORIA DE CONTRALORIA I (EXTERNA)",
          "JEFE DE AUDITORIA DE CONTRALORIA I (EXTERNA)",
          "JEFE DE AUDITORIA DE CONTRALORIA I (EXTERNA)",
          "JEFE DE AUDITORIA DE CONTRALORIA I (EXTERNA)",
          "JEFE DE AUDITORIA DE CONTRALORIA I (EXTERNA)",
          "JEFE DE AUDITORIA DE CONTRALORIA I (EXTERNA)",
          "JEFE DE AUDITORIA DE CONTRALORIA I (EXTERNA)",
          "JEFE DE AUDITORIA DE CONTRALORIA I (EXTERNA)",
          "JEFE DE AUDITORIA DE CONTRALORIA I (EXTERNA)",
          "JEFE DE AUDITORIA DE CONTRALORIA I (EXTERNA)",
          "JEFE DE AUDITORIA DE CONTRALORIA I (EXTERNA)",
          "JEFE DE AUDITORIA DE CONTRALORIA I (EXTERNA)",
          "JEFE DE AUDITORIA DE CONTRALORIA I (EXTERNA)",
          "JEFE DE AUDITORIA DE CONTRALORIA I (EXTERNA)",
          "JEFE DE AUDITORIA DE CONTRALORIA I (EXTERNA)",
          "JEFE DE AUDITORIA DE CONTRALORIA I (EXTERNA)",
          "JEFE DE AUDITORIA DE CONTRALORIA I (EXTERNA)",
          "JEFE DE AUDITORIA DE CONTRALORIA I (EXTERNA)",
          "JEFE DE AUDITORIA DE CONTRALORIA I (EXTERNA)",
          "JEFE DE AUDITORIA DE CONTRALORIA I (EXTERNA)",
          "JEFE DE AUDITORIA DE CONTRALORIA I (EXTERNA)",
          "JEFE DE AUDITORIA DE CONTRALORIA I (EXTERNA)",
          "JEFE DE AUDITORIA DE CONTRALORIA I (EXTERNA)",
          "JEFE DE AUDITORIA DE CONTRALORIA I (EXTERNA)",
          "JEFE DE AUDITORIA DE CONTRALORIA I (EXTERNA)",
          "JEFE DE AUDITORIA DE CONTRALORIA I (EXTERNA)",
          "JEFE DE AUDITORIA DE CONTRALORIA I (EXTERNA)",
          "JEFE DE AUDITORIA DE CONTRALORIA I (EXTERNA)",
          "JEFE DE AUDITORIA DE CONTRALORIA I (EXTERNA)",
          "JEFE DE AUDITORIA DE CONTRALORIA I (EXTERNA)",
          "JEFE DE AUDITORIA DE CONTRALORIA I (EXTERNA)",
          "JEFE DE AUDITORIA DE CONTRALORIA I (EXTERNA)",
          "JEFE DE AUDITORIA DE CONTRALORIA I (EXTERNA)",
          "JEFE DE AUDITORIA DE CONTRALORIA I (EXTERNA)",
          "JEFE DE AUDITORIA DE CONTRALORIA I (EXTERNA)",
          "JEFE DE AUDITORIA DE CONTRALORIA I (EXTERNA)",
          "JEFE DE AUDITORIA DE CONTRALORIA I (EXTERNA)",
          "JEFE DE AUDITORIA DE CONTRALORIA I (EXTERNA)",
          "JEFE DE AUDITORIA DE CONTRALORIA I (EXTERNA)",
          "JEFE DE AUDITORIA DE CONTRALORIA I (EXTERNA)",
          "JEFE DE AUDITORIA DE CONTRALORIA I (EXTERNA)",
          "JEFE DE AUDITORIA DE CONTRALORIA I (EXTERNA)",
          "JEFE DE AUDITORIA DE CONTRALORIA I (EXTERNA)",
          "JEFE DE AUDITORIA DE CONTRALORIA I (EXTERNA)",
          "JEFE DE AUDITORIA DE CONTRALORIA I (EXTERNA)",
          "JEFE DE AUDITORIA DE CONTRALORIA I (EXTERNA)",
          "JEFE DE AUDITORIA DE CONTRALORIA I (EXTERNA)",
          "JEFE DE AUDITORIA DE CONTRALORIA I (EXTERNA)",
          "JEFE DE AUDITORIA DE CONTRALORIA I (EXTERNA)",
          "JEFE DE AUDITORIA DE CONTRALORIA I (EXTERNA)",
          "JEFE DE AUDITORIA DE CONTRALORIA I (EXTERNA)",
          "JEFE DE AUDITORIA DE CONTRALORIA I (EXTERNA)",
          "JEFE DE AUDITORIA DE CONTRALORIA I (EXTERNA)",
          "JEFE DE AUDITORIA DE CONTRALORIA I (EXTERNA)",
          "JEFE DE AUDITORIA DE CONTRALORIA I (EXTERNA)",
          "JEFE DE AUDITORIA DE CONTRALORIA I (EXTERNA)",
          "JEFE DE AUDITORIA DE CONTRALORIA I (EXTERNA)",
          "JEFE DE AUDITORIA DE CONTRALORIA I (EXTERNA)",
          "JEFE DE AUDITORIA DE CONTRALORIA I (EXTERNA)",
          "JEFE DE AUDITORIA DE CONTRALORIA I (EXTERNA)",
          "JEFE DE AUDITORIA DE CONTRALORIA I (EXTERNA)",
          "JEFE DE AUDITORIA DE CONTRALORIA I (EXTERNA)",
          "JEFE DE AUDITORIA DE CONTRALORIA I (EXTERNA)",
          "JEFE DE AUDITORIA DE CONTRALORIA I (EXTERNA)",
          "JEFE DE AUDITORIA DE CONTRALORIA I (EXTERNA)",
          "JEFE DE AUDITORIA DE CONTRALORIA I (EXTERNA)",
          "JEFE DE AUDITORIA DE CONTRALORIA I (EXTERNA)",
          "JEFE DE AUDITORIA DE CONTRALORIA I (EXTERNA)",
          "JEFE DE AUDITORIA DE CONTRALORIA I (EXTERNA)",
          "JEFE DE AUDITORIA DE CONTRALORIA I (EXTERNA)",
          "JEFE DE AUDITORIA DE CONTRALORIA I (EXTERNA)",
          "JEFE DE AUDITORIA DE CONTRALORIA I (EXTERNA)",
          "JEFE DE AUDITORIA DE CONTRALORIA I (EXTERNA)",
          "JEFE DE AUDITORIA DE CONTRALORIA I (EXTERNA)",
          "JEFE DE AUDITORIA DE CONTRALORIA I (EXTERNA)",
          "JEFE DE AUDITORIA DE CONTRALORIA I (EXTERNA)",
          "JEFE DE AUDITORIA DE CONTRALORIA I (EXTERNA)",
          "JEFE DE AUDITORIA DE CONTRALORIA I (EXTERNA)",
          "JEFE DE AUDITORIA DE CONTRALORIA I (EXTERNA)",
          "JEFE DE AUDITORIA DE CONTRALORIA I (EXTERNA)",
          "JEFE DE AUDITORIA DE CONTRALORIA I (EXTERNA)",
          "JEFE DE AUDITORIA DE CONTRALORIA I (EXTERNA)",
          "JEFE DE AUDITORIA DE CONTRALORIA I (EXTERNA)",
          "JEFE DE AUDITORIA DE CONTRALORIA I (EXTERNA)",
          "JEFE DE AUDITORIA DE CONTRALORIA I (EXTERNA)",
          "JEFE DE AUDITORIA DE CONTRALORIA I (EXTERNA)",
          "JEFE DE AUDITORIA DE CONTRALORIA I (EXTERNA)",
          "JEFE DE AUDITORIA DE CONTRALORIA I (EXTERNA)",
          "JEFE DE AUDITORIA DE CONTRALORIA I (EXTERNA)",
          "JEFE DE AUDITORIA DE CONTRALORIA I (EXTERNA)",
          "JEFE DE AUDITORIA DE CONTRALORIA I (EXTERNA)",
          "JEFE DE AUDITORIA DE CONTRALORIA I (EXTERNA)",
          "JEFE DE AUDITORIA DE CONTRALORIA I (EXTERNA)",
          "JEFE DE AUDITORIA DE CONTRALORIA I (EXTERNA)",
          "JEFE DE AUDITORIA DE CONTRALORIA I (EXTERNA)"
         ],
         "xaxis": "x",
         "y": [
          1952,
          2056,
          1832,
          1824,
          2340,
          2206,
          2091.21,
          1952,
          1952,
          2024,
          2025,
          1823,
          1720,
          1824,
          1764,
          2800,
          1824,
          2048,
          2032,
          1824,
          2230,
          1952,
          1952,
          2421,
          1720,
          1815,
          1895,
          2064,
          2206,
          1824,
          1832,
          2064,
          1832,
          1832,
          1898,
          1926.5,
          1832,
          1893,
          2121.1,
          1824,
          1819,
          1815,
          1926.5,
          1868.47,
          2052,
          1824,
          2064,
          1824,
          1918,
          1912,
          2024,
          2535,
          1824,
          1952,
          2306,
          1936,
          2071,
          2176,
          2152,
          2441,
          1952,
          1824,
          2190,
          2379,
          2071,
          1832,
          1952,
          1952,
          1824,
          1824,
          1824,
          1898,
          2279,
          2961,
          2724,
          2130,
          1932.8,
          2052,
          2290,
          1824,
          1824,
          2056,
          2515,
          2487,
          1815,
          2411,
          2152,
          1918,
          1500,
          2536,
          1818,
          1936,
          1932,
          1824,
          1828,
          2002,
          2654,
          1824,
          2071,
          1824,
          2379,
          1832,
          1952,
          2297.48,
          1824,
          1832,
          2042,
          1824,
          1812,
          1824,
          1832,
          2063,
          2025,
          2064,
          1815,
          2906,
          2102,
          1952,
          1720,
          1952,
          2024,
          2064,
          1824,
          1720,
          1824,
          2064,
          1831.05,
          2170,
          2055,
          1824,
          1824,
          2754,
          1824,
          2064,
          2245,
          2172,
          1952,
          1898,
          2367,
          2830,
          1713,
          2338,
          1832,
          1952,
          1824,
          2321,
          1952,
          1824,
          1952,
          2152,
          1952,
          2308,
          1952,
          1000,
          1824,
          1819,
          2103.87,
          1832,
          2553.97,
          2093,
          1952,
          2595,
          1952,
          2009,
          2297.48,
          1886,
          2719,
          1893,
          2071,
          2093,
          1893,
          1824
         ],
         "yaxis": "y"
        }
       ],
       "layout": {
        "legend": {
         "itemsizing": "constant",
         "title": {
          "text": "estatus"
         },
         "tracegroupgap": 0
        },
        "margin": {
         "t": 60
        },
        "template": {
         "data": {
          "bar": [
           {
            "error_x": {
             "color": "#2a3f5f"
            },
            "error_y": {
             "color": "#2a3f5f"
            },
            "marker": {
             "line": {
              "color": "#E5ECF6",
              "width": 0.5
             },
             "pattern": {
              "fillmode": "overlay",
              "size": 10,
              "solidity": 0.2
             }
            },
            "type": "bar"
           }
          ],
          "barpolar": [
           {
            "marker": {
             "line": {
              "color": "#E5ECF6",
              "width": 0.5
             },
             "pattern": {
              "fillmode": "overlay",
              "size": 10,
              "solidity": 0.2
             }
            },
            "type": "barpolar"
           }
          ],
          "carpet": [
           {
            "aaxis": {
             "endlinecolor": "#2a3f5f",
             "gridcolor": "white",
             "linecolor": "white",
             "minorgridcolor": "white",
             "startlinecolor": "#2a3f5f"
            },
            "baxis": {
             "endlinecolor": "#2a3f5f",
             "gridcolor": "white",
             "linecolor": "white",
             "minorgridcolor": "white",
             "startlinecolor": "#2a3f5f"
            },
            "type": "carpet"
           }
          ],
          "choropleth": [
           {
            "colorbar": {
             "outlinewidth": 0,
             "ticks": ""
            },
            "type": "choropleth"
           }
          ],
          "contour": [
           {
            "colorbar": {
             "outlinewidth": 0,
             "ticks": ""
            },
            "colorscale": [
             [
              0,
              "#0d0887"
             ],
             [
              0.1111111111111111,
              "#46039f"
             ],
             [
              0.2222222222222222,
              "#7201a8"
             ],
             [
              0.3333333333333333,
              "#9c179e"
             ],
             [
              0.4444444444444444,
              "#bd3786"
             ],
             [
              0.5555555555555556,
              "#d8576b"
             ],
             [
              0.6666666666666666,
              "#ed7953"
             ],
             [
              0.7777777777777778,
              "#fb9f3a"
             ],
             [
              0.8888888888888888,
              "#fdca26"
             ],
             [
              1,
              "#f0f921"
             ]
            ],
            "type": "contour"
           }
          ],
          "contourcarpet": [
           {
            "colorbar": {
             "outlinewidth": 0,
             "ticks": ""
            },
            "type": "contourcarpet"
           }
          ],
          "heatmap": [
           {
            "colorbar": {
             "outlinewidth": 0,
             "ticks": ""
            },
            "colorscale": [
             [
              0,
              "#0d0887"
             ],
             [
              0.1111111111111111,
              "#46039f"
             ],
             [
              0.2222222222222222,
              "#7201a8"
             ],
             [
              0.3333333333333333,
              "#9c179e"
             ],
             [
              0.4444444444444444,
              "#bd3786"
             ],
             [
              0.5555555555555556,
              "#d8576b"
             ],
             [
              0.6666666666666666,
              "#ed7953"
             ],
             [
              0.7777777777777778,
              "#fb9f3a"
             ],
             [
              0.8888888888888888,
              "#fdca26"
             ],
             [
              1,
              "#f0f921"
             ]
            ],
            "type": "heatmap"
           }
          ],
          "heatmapgl": [
           {
            "colorbar": {
             "outlinewidth": 0,
             "ticks": ""
            },
            "colorscale": [
             [
              0,
              "#0d0887"
             ],
             [
              0.1111111111111111,
              "#46039f"
             ],
             [
              0.2222222222222222,
              "#7201a8"
             ],
             [
              0.3333333333333333,
              "#9c179e"
             ],
             [
              0.4444444444444444,
              "#bd3786"
             ],
             [
              0.5555555555555556,
              "#d8576b"
             ],
             [
              0.6666666666666666,
              "#ed7953"
             ],
             [
              0.7777777777777778,
              "#fb9f3a"
             ],
             [
              0.8888888888888888,
              "#fdca26"
             ],
             [
              1,
              "#f0f921"
             ]
            ],
            "type": "heatmapgl"
           }
          ],
          "histogram": [
           {
            "marker": {
             "pattern": {
              "fillmode": "overlay",
              "size": 10,
              "solidity": 0.2
             }
            },
            "type": "histogram"
           }
          ],
          "histogram2d": [
           {
            "colorbar": {
             "outlinewidth": 0,
             "ticks": ""
            },
            "colorscale": [
             [
              0,
              "#0d0887"
             ],
             [
              0.1111111111111111,
              "#46039f"
             ],
             [
              0.2222222222222222,
              "#7201a8"
             ],
             [
              0.3333333333333333,
              "#9c179e"
             ],
             [
              0.4444444444444444,
              "#bd3786"
             ],
             [
              0.5555555555555556,
              "#d8576b"
             ],
             [
              0.6666666666666666,
              "#ed7953"
             ],
             [
              0.7777777777777778,
              "#fb9f3a"
             ],
             [
              0.8888888888888888,
              "#fdca26"
             ],
             [
              1,
              "#f0f921"
             ]
            ],
            "type": "histogram2d"
           }
          ],
          "histogram2dcontour": [
           {
            "colorbar": {
             "outlinewidth": 0,
             "ticks": ""
            },
            "colorscale": [
             [
              0,
              "#0d0887"
             ],
             [
              0.1111111111111111,
              "#46039f"
             ],
             [
              0.2222222222222222,
              "#7201a8"
             ],
             [
              0.3333333333333333,
              "#9c179e"
             ],
             [
              0.4444444444444444,
              "#bd3786"
             ],
             [
              0.5555555555555556,
              "#d8576b"
             ],
             [
              0.6666666666666666,
              "#ed7953"
             ],
             [
              0.7777777777777778,
              "#fb9f3a"
             ],
             [
              0.8888888888888888,
              "#fdca26"
             ],
             [
              1,
              "#f0f921"
             ]
            ],
            "type": "histogram2dcontour"
           }
          ],
          "mesh3d": [
           {
            "colorbar": {
             "outlinewidth": 0,
             "ticks": ""
            },
            "type": "mesh3d"
           }
          ],
          "parcoords": [
           {
            "line": {
             "colorbar": {
              "outlinewidth": 0,
              "ticks": ""
             }
            },
            "type": "parcoords"
           }
          ],
          "pie": [
           {
            "automargin": true,
            "type": "pie"
           }
          ],
          "scatter": [
           {
            "fillpattern": {
             "fillmode": "overlay",
             "size": 10,
             "solidity": 0.2
            },
            "type": "scatter"
           }
          ],
          "scatter3d": [
           {
            "line": {
             "colorbar": {
              "outlinewidth": 0,
              "ticks": ""
             }
            },
            "marker": {
             "colorbar": {
              "outlinewidth": 0,
              "ticks": ""
             }
            },
            "type": "scatter3d"
           }
          ],
          "scattercarpet": [
           {
            "marker": {
             "colorbar": {
              "outlinewidth": 0,
              "ticks": ""
             }
            },
            "type": "scattercarpet"
           }
          ],
          "scattergeo": [
           {
            "marker": {
             "colorbar": {
              "outlinewidth": 0,
              "ticks": ""
             }
            },
            "type": "scattergeo"
           }
          ],
          "scattergl": [
           {
            "marker": {
             "colorbar": {
              "outlinewidth": 0,
              "ticks": ""
             }
            },
            "type": "scattergl"
           }
          ],
          "scattermapbox": [
           {
            "marker": {
             "colorbar": {
              "outlinewidth": 0,
              "ticks": ""
             }
            },
            "type": "scattermapbox"
           }
          ],
          "scatterpolar": [
           {
            "marker": {
             "colorbar": {
              "outlinewidth": 0,
              "ticks": ""
             }
            },
            "type": "scatterpolar"
           }
          ],
          "scatterpolargl": [
           {
            "marker": {
             "colorbar": {
              "outlinewidth": 0,
              "ticks": ""
             }
            },
            "type": "scatterpolargl"
           }
          ],
          "scatterternary": [
           {
            "marker": {
             "colorbar": {
              "outlinewidth": 0,
              "ticks": ""
             }
            },
            "type": "scatterternary"
           }
          ],
          "surface": [
           {
            "colorbar": {
             "outlinewidth": 0,
             "ticks": ""
            },
            "colorscale": [
             [
              0,
              "#0d0887"
             ],
             [
              0.1111111111111111,
              "#46039f"
             ],
             [
              0.2222222222222222,
              "#7201a8"
             ],
             [
              0.3333333333333333,
              "#9c179e"
             ],
             [
              0.4444444444444444,
              "#bd3786"
             ],
             [
              0.5555555555555556,
              "#d8576b"
             ],
             [
              0.6666666666666666,
              "#ed7953"
             ],
             [
              0.7777777777777778,
              "#fb9f3a"
             ],
             [
              0.8888888888888888,
              "#fdca26"
             ],
             [
              1,
              "#f0f921"
             ]
            ],
            "type": "surface"
           }
          ],
          "table": [
           {
            "cells": {
             "fill": {
              "color": "#EBF0F8"
             },
             "line": {
              "color": "white"
             }
            },
            "header": {
             "fill": {
              "color": "#C8D4E3"
             },
             "line": {
              "color": "white"
             }
            },
            "type": "table"
           }
          ]
         },
         "layout": {
          "annotationdefaults": {
           "arrowcolor": "#2a3f5f",
           "arrowhead": 0,
           "arrowwidth": 1
          },
          "autotypenumbers": "strict",
          "coloraxis": {
           "colorbar": {
            "outlinewidth": 0,
            "ticks": ""
           }
          },
          "colorscale": {
           "diverging": [
            [
             0,
             "#8e0152"
            ],
            [
             0.1,
             "#c51b7d"
            ],
            [
             0.2,
             "#de77ae"
            ],
            [
             0.3,
             "#f1b6da"
            ],
            [
             0.4,
             "#fde0ef"
            ],
            [
             0.5,
             "#f7f7f7"
            ],
            [
             0.6,
             "#e6f5d0"
            ],
            [
             0.7,
             "#b8e186"
            ],
            [
             0.8,
             "#7fbc41"
            ],
            [
             0.9,
             "#4d9221"
            ],
            [
             1,
             "#276419"
            ]
           ],
           "sequential": [
            [
             0,
             "#0d0887"
            ],
            [
             0.1111111111111111,
             "#46039f"
            ],
            [
             0.2222222222222222,
             "#7201a8"
            ],
            [
             0.3333333333333333,
             "#9c179e"
            ],
            [
             0.4444444444444444,
             "#bd3786"
            ],
            [
             0.5555555555555556,
             "#d8576b"
            ],
            [
             0.6666666666666666,
             "#ed7953"
            ],
            [
             0.7777777777777778,
             "#fb9f3a"
            ],
            [
             0.8888888888888888,
             "#fdca26"
            ],
            [
             1,
             "#f0f921"
            ]
           ],
           "sequentialminus": [
            [
             0,
             "#0d0887"
            ],
            [
             0.1111111111111111,
             "#46039f"
            ],
            [
             0.2222222222222222,
             "#7201a8"
            ],
            [
             0.3333333333333333,
             "#9c179e"
            ],
            [
             0.4444444444444444,
             "#bd3786"
            ],
            [
             0.5555555555555556,
             "#d8576b"
            ],
            [
             0.6666666666666666,
             "#ed7953"
            ],
            [
             0.7777777777777778,
             "#fb9f3a"
            ],
            [
             0.8888888888888888,
             "#fdca26"
            ],
            [
             1,
             "#f0f921"
            ]
           ]
          },
          "colorway": [
           "#636efa",
           "#EF553B",
           "#00cc96",
           "#ab63fa",
           "#FFA15A",
           "#19d3f3",
           "#FF6692",
           "#B6E880",
           "#FF97FF",
           "#FECB52"
          ],
          "font": {
           "color": "#2a3f5f"
          },
          "geo": {
           "bgcolor": "white",
           "lakecolor": "white",
           "landcolor": "#E5ECF6",
           "showlakes": true,
           "showland": true,
           "subunitcolor": "white"
          },
          "hoverlabel": {
           "align": "left"
          },
          "hovermode": "closest",
          "mapbox": {
           "style": "light"
          },
          "paper_bgcolor": "white",
          "plot_bgcolor": "#E5ECF6",
          "polar": {
           "angularaxis": {
            "gridcolor": "white",
            "linecolor": "white",
            "ticks": ""
           },
           "bgcolor": "#E5ECF6",
           "radialaxis": {
            "gridcolor": "white",
            "linecolor": "white",
            "ticks": ""
           }
          },
          "scene": {
           "xaxis": {
            "backgroundcolor": "#E5ECF6",
            "gridcolor": "white",
            "gridwidth": 2,
            "linecolor": "white",
            "showbackground": true,
            "ticks": "",
            "zerolinecolor": "white"
           },
           "yaxis": {
            "backgroundcolor": "#E5ECF6",
            "gridcolor": "white",
            "gridwidth": 2,
            "linecolor": "white",
            "showbackground": true,
            "ticks": "",
            "zerolinecolor": "white"
           },
           "zaxis": {
            "backgroundcolor": "#E5ECF6",
            "gridcolor": "white",
            "gridwidth": 2,
            "linecolor": "white",
            "showbackground": true,
            "ticks": "",
            "zerolinecolor": "white"
           }
          },
          "shapedefaults": {
           "line": {
            "color": "#2a3f5f"
           }
          },
          "ternary": {
           "aaxis": {
            "gridcolor": "white",
            "linecolor": "white",
            "ticks": ""
           },
           "baxis": {
            "gridcolor": "white",
            "linecolor": "white",
            "ticks": ""
           },
           "bgcolor": "#E5ECF6",
           "caxis": {
            "gridcolor": "white",
            "linecolor": "white",
            "ticks": ""
           }
          },
          "title": {
           "x": 0.05
          },
          "xaxis": {
           "automargin": true,
           "gridcolor": "white",
           "linecolor": "white",
           "ticks": "",
           "title": {
            "standoff": 15
           },
           "zerolinecolor": "white",
           "zerolinewidth": 2
          },
          "yaxis": {
           "automargin": true,
           "gridcolor": "white",
           "linecolor": "white",
           "ticks": "",
           "title": {
            "standoff": 15
           },
           "zerolinecolor": "white",
           "zerolinewidth": 2
          }
         }
        },
        "xaxis": {
         "anchor": "y",
         "domain": [
          0,
          1
         ],
         "title": {
          "text": "cargo"
         }
        },
        "yaxis": {
         "anchor": "x",
         "domain": [
          0,
          1
         ],
         "title": {
          "text": "salarioMensual"
         }
        }
       }
      }
     },
     "metadata": {},
     "output_type": "display_data"
    },
    {
     "data": {
      "application/vnd.plotly.v1+json": {
       "config": {
        "plotlyServerURL": "https://plot.ly"
       },
       "data": [
        {
         "hovertemplate": "estatus=PERMANENTE<br>cargo=%{x}<br>salarioMensual=%{y}<br>posicion=%{marker.size}<extra></extra>",
         "legendgroup": "PERMANENTE",
         "marker": {
          "color": "#636efa",
          "size": [
           497,
           1049,
           3868,
           2404,
           2931,
           968,
           5053,
           3508,
           3202,
           3621,
           6190,
           2314,
           5961,
           2098,
           460,
           5830,
           1536,
           1036,
           5963,
           3687,
           1176,
           2937,
           2445,
           2756,
           3140,
           2549,
           3139,
           3562,
           2516,
           2439,
           469,
           2915,
           3685,
           3015,
           3662,
           4121,
           3337,
           1511,
           2201,
           5002,
           3201,
           5031,
           2440,
           951,
           1619,
           2649,
           411,
           2679,
           2205,
           3235,
           3899,
           5741,
           2578,
           2223,
           3567,
           4356,
           957
          ],
          "sizemode": "area",
          "sizeref": 15.475,
          "symbol": "circle"
         },
         "mode": "markers",
         "name": "PERMANENTE",
         "orientation": "v",
         "showlegend": true,
         "type": "scatter",
         "x": [
          "JEFE DE AUDITORIA DE CONTRALORIA II (EXTERNA)",
          "JEFE DE AUDITORIA DE CONTRALORIA II (EXTERNA)",
          "JEFE DE AUDITORIA DE CONTRALORIA II (EXTERNA)",
          "JEFE DE AUDITORIA DE CONTRALORIA II (EXTERNA)",
          "JEFE DE AUDITORIA DE CONTRALORIA II (EXTERNA)",
          "JEFE DE AUDITORIA DE CONTRALORIA II (EXTERNA)",
          "JEFE DE AUDITORIA DE CONTRALORIA II (EXTERNA)",
          "JEFE DE AUDITORIA DE CONTRALORIA II (EXTERNA)",
          "JEFE DE AUDITORIA DE CONTRALORIA II (EXTERNA)",
          "JEFE DE AUDITORIA DE CONTRALORIA II (EXTERNA)",
          "JEFE DE AUDITORIA DE CONTRALORIA II (EXTERNA)",
          "JEFE DE AUDITORIA DE CONTRALORIA II (EXTERNA)",
          "JEFE DE AUDITORIA DE CONTRALORIA II (EXTERNA)",
          "JEFE DE AUDITORIA DE CONTRALORIA II (EXTERNA)",
          "JEFE DE AUDITORIA DE CONTRALORIA II (EXTERNA)",
          "JEFE DE AUDITORIA DE CONTRALORIA II (EXTERNA)",
          "JEFE DE AUDITORIA DE CONTRALORIA II (EXTERNA)",
          "JEFE DE AUDITORIA DE CONTRALORIA II (EXTERNA)",
          "JEFE DE AUDITORIA DE CONTRALORIA II (EXTERNA)",
          "JEFE DE AUDITORIA DE CONTRALORIA II (EXTERNA)",
          "JEFE DE AUDITORIA DE CONTRALORIA II (EXTERNA)",
          "JEFE DE AUDITORIA DE CONTRALORIA II (EXTERNA)",
          "JEFE DE AUDITORIA DE CONTRALORIA II (EXTERNA)",
          "JEFE DE AUDITORIA DE CONTRALORIA II (EXTERNA)",
          "JEFE DE AUDITORIA DE CONTRALORIA II (EXTERNA)",
          "JEFE DE AUDITORIA DE CONTRALORIA II (EXTERNA)",
          "JEFE DE AUDITORIA DE CONTRALORIA II (EXTERNA)",
          "JEFE DE AUDITORIA DE CONTRALORIA II (EXTERNA)",
          "JEFE DE AUDITORIA DE CONTRALORIA II (EXTERNA)",
          "JEFE DE AUDITORIA DE CONTRALORIA II (EXTERNA)",
          "JEFE DE AUDITORIA DE CONTRALORIA II (EXTERNA)",
          "JEFE DE AUDITORIA DE CONTRALORIA II (EXTERNA)",
          "JEFE DE AUDITORIA DE CONTRALORIA II (EXTERNA)",
          "JEFE DE AUDITORIA DE CONTRALORIA II (EXTERNA)",
          "JEFE DE AUDITORIA DE CONTRALORIA II (EXTERNA)",
          "JEFE DE AUDITORIA DE CONTRALORIA II (EXTERNA)",
          "JEFE DE AUDITORIA DE CONTRALORIA II (EXTERNA)",
          "JEFE DE AUDITORIA DE CONTRALORIA II (EXTERNA)",
          "JEFE DE AUDITORIA DE CONTRALORIA II (EXTERNA)",
          "JEFE DE AUDITORIA DE CONTRALORIA II (EXTERNA)",
          "JEFE DE AUDITORIA DE CONTRALORIA II (EXTERNA)",
          "JEFE DE AUDITORIA DE CONTRALORIA II (EXTERNA)",
          "JEFE DE AUDITORIA DE CONTRALORIA II (EXTERNA)",
          "JEFE DE AUDITORIA DE CONTRALORIA II (EXTERNA)",
          "JEFE DE AUDITORIA DE CONTRALORIA II (EXTERNA)",
          "JEFE DE AUDITORIA DE CONTRALORIA II (EXTERNA)",
          "JEFE DE AUDITORIA DE CONTRALORIA II (EXTERNA)",
          "JEFE DE AUDITORIA DE CONTRALORIA II (EXTERNA)",
          "JEFE DE AUDITORIA DE CONTRALORIA II (EXTERNA)",
          "JEFE DE AUDITORIA DE CONTRALORIA II (EXTERNA)",
          "JEFE DE AUDITORIA DE CONTRALORIA II (EXTERNA)",
          "JEFE DE AUDITORIA DE CONTRALORIA II (EXTERNA)",
          "JEFE DE AUDITORIA DE CONTRALORIA II (EXTERNA)",
          "JEFE DE AUDITORIA DE CONTRALORIA II (EXTERNA)",
          "JEFE DE AUDITORIA DE CONTRALORIA II (EXTERNA)",
          "JEFE DE AUDITORIA DE CONTRALORIA II (EXTERNA)",
          "JEFE DE AUDITORIA DE CONTRALORIA II (EXTERNA)"
         ],
         "xaxis": "x",
         "y": [
          1815,
          2829.8,
          2071,
          1998,
          2023,
          1923,
          2563,
          1796,
          4000,
          2273,
          1600,
          3250,
          1913,
          2265,
          2015,
          2250,
          3249,
          2048,
          2013,
          2293,
          1923,
          2023,
          2264,
          2300,
          2302,
          2911,
          1998,
          2252,
          2249,
          2024,
          2627,
          2112,
          2252,
          2023,
          2273,
          1930,
          2024,
          2300,
          2071,
          2061,
          4000,
          2363,
          2129,
          2300,
          2252,
          1973,
          2651,
          2252,
          2300,
          2245,
          2000,
          2904,
          2071,
          2370,
          2252,
          1817,
          2356
         ],
         "yaxis": "y"
        },
        {
         "hovertemplate": "estatus=EVENTUAL<br>cargo=%{x}<br>salarioMensual=%{y}<br>posicion=%{marker.size}<extra></extra>",
         "legendgroup": "EVENTUAL",
         "marker": {
          "color": "#EF553B",
          "size": [
           1319
          ],
          "sizemode": "area",
          "sizeref": 15.475,
          "symbol": "circle"
         },
         "mode": "markers",
         "name": "EVENTUAL",
         "orientation": "v",
         "showlegend": true,
         "type": "scatter",
         "x": [
          "JEFE DE AUDITORIA DE CONTRALORIA II (EXTERNA)"
         ],
         "xaxis": "x",
         "y": [
          2531
         ],
         "yaxis": "y"
        }
       ],
       "layout": {
        "legend": {
         "itemsizing": "constant",
         "title": {
          "text": "estatus"
         },
         "tracegroupgap": 0
        },
        "margin": {
         "t": 60
        },
        "template": {
         "data": {
          "bar": [
           {
            "error_x": {
             "color": "#2a3f5f"
            },
            "error_y": {
             "color": "#2a3f5f"
            },
            "marker": {
             "line": {
              "color": "#E5ECF6",
              "width": 0.5
             },
             "pattern": {
              "fillmode": "overlay",
              "size": 10,
              "solidity": 0.2
             }
            },
            "type": "bar"
           }
          ],
          "barpolar": [
           {
            "marker": {
             "line": {
              "color": "#E5ECF6",
              "width": 0.5
             },
             "pattern": {
              "fillmode": "overlay",
              "size": 10,
              "solidity": 0.2
             }
            },
            "type": "barpolar"
           }
          ],
          "carpet": [
           {
            "aaxis": {
             "endlinecolor": "#2a3f5f",
             "gridcolor": "white",
             "linecolor": "white",
             "minorgridcolor": "white",
             "startlinecolor": "#2a3f5f"
            },
            "baxis": {
             "endlinecolor": "#2a3f5f",
             "gridcolor": "white",
             "linecolor": "white",
             "minorgridcolor": "white",
             "startlinecolor": "#2a3f5f"
            },
            "type": "carpet"
           }
          ],
          "choropleth": [
           {
            "colorbar": {
             "outlinewidth": 0,
             "ticks": ""
            },
            "type": "choropleth"
           }
          ],
          "contour": [
           {
            "colorbar": {
             "outlinewidth": 0,
             "ticks": ""
            },
            "colorscale": [
             [
              0,
              "#0d0887"
             ],
             [
              0.1111111111111111,
              "#46039f"
             ],
             [
              0.2222222222222222,
              "#7201a8"
             ],
             [
              0.3333333333333333,
              "#9c179e"
             ],
             [
              0.4444444444444444,
              "#bd3786"
             ],
             [
              0.5555555555555556,
              "#d8576b"
             ],
             [
              0.6666666666666666,
              "#ed7953"
             ],
             [
              0.7777777777777778,
              "#fb9f3a"
             ],
             [
              0.8888888888888888,
              "#fdca26"
             ],
             [
              1,
              "#f0f921"
             ]
            ],
            "type": "contour"
           }
          ],
          "contourcarpet": [
           {
            "colorbar": {
             "outlinewidth": 0,
             "ticks": ""
            },
            "type": "contourcarpet"
           }
          ],
          "heatmap": [
           {
            "colorbar": {
             "outlinewidth": 0,
             "ticks": ""
            },
            "colorscale": [
             [
              0,
              "#0d0887"
             ],
             [
              0.1111111111111111,
              "#46039f"
             ],
             [
              0.2222222222222222,
              "#7201a8"
             ],
             [
              0.3333333333333333,
              "#9c179e"
             ],
             [
              0.4444444444444444,
              "#bd3786"
             ],
             [
              0.5555555555555556,
              "#d8576b"
             ],
             [
              0.6666666666666666,
              "#ed7953"
             ],
             [
              0.7777777777777778,
              "#fb9f3a"
             ],
             [
              0.8888888888888888,
              "#fdca26"
             ],
             [
              1,
              "#f0f921"
             ]
            ],
            "type": "heatmap"
           }
          ],
          "heatmapgl": [
           {
            "colorbar": {
             "outlinewidth": 0,
             "ticks": ""
            },
            "colorscale": [
             [
              0,
              "#0d0887"
             ],
             [
              0.1111111111111111,
              "#46039f"
             ],
             [
              0.2222222222222222,
              "#7201a8"
             ],
             [
              0.3333333333333333,
              "#9c179e"
             ],
             [
              0.4444444444444444,
              "#bd3786"
             ],
             [
              0.5555555555555556,
              "#d8576b"
             ],
             [
              0.6666666666666666,
              "#ed7953"
             ],
             [
              0.7777777777777778,
              "#fb9f3a"
             ],
             [
              0.8888888888888888,
              "#fdca26"
             ],
             [
              1,
              "#f0f921"
             ]
            ],
            "type": "heatmapgl"
           }
          ],
          "histogram": [
           {
            "marker": {
             "pattern": {
              "fillmode": "overlay",
              "size": 10,
              "solidity": 0.2
             }
            },
            "type": "histogram"
           }
          ],
          "histogram2d": [
           {
            "colorbar": {
             "outlinewidth": 0,
             "ticks": ""
            },
            "colorscale": [
             [
              0,
              "#0d0887"
             ],
             [
              0.1111111111111111,
              "#46039f"
             ],
             [
              0.2222222222222222,
              "#7201a8"
             ],
             [
              0.3333333333333333,
              "#9c179e"
             ],
             [
              0.4444444444444444,
              "#bd3786"
             ],
             [
              0.5555555555555556,
              "#d8576b"
             ],
             [
              0.6666666666666666,
              "#ed7953"
             ],
             [
              0.7777777777777778,
              "#fb9f3a"
             ],
             [
              0.8888888888888888,
              "#fdca26"
             ],
             [
              1,
              "#f0f921"
             ]
            ],
            "type": "histogram2d"
           }
          ],
          "histogram2dcontour": [
           {
            "colorbar": {
             "outlinewidth": 0,
             "ticks": ""
            },
            "colorscale": [
             [
              0,
              "#0d0887"
             ],
             [
              0.1111111111111111,
              "#46039f"
             ],
             [
              0.2222222222222222,
              "#7201a8"
             ],
             [
              0.3333333333333333,
              "#9c179e"
             ],
             [
              0.4444444444444444,
              "#bd3786"
             ],
             [
              0.5555555555555556,
              "#d8576b"
             ],
             [
              0.6666666666666666,
              "#ed7953"
             ],
             [
              0.7777777777777778,
              "#fb9f3a"
             ],
             [
              0.8888888888888888,
              "#fdca26"
             ],
             [
              1,
              "#f0f921"
             ]
            ],
            "type": "histogram2dcontour"
           }
          ],
          "mesh3d": [
           {
            "colorbar": {
             "outlinewidth": 0,
             "ticks": ""
            },
            "type": "mesh3d"
           }
          ],
          "parcoords": [
           {
            "line": {
             "colorbar": {
              "outlinewidth": 0,
              "ticks": ""
             }
            },
            "type": "parcoords"
           }
          ],
          "pie": [
           {
            "automargin": true,
            "type": "pie"
           }
          ],
          "scatter": [
           {
            "fillpattern": {
             "fillmode": "overlay",
             "size": 10,
             "solidity": 0.2
            },
            "type": "scatter"
           }
          ],
          "scatter3d": [
           {
            "line": {
             "colorbar": {
              "outlinewidth": 0,
              "ticks": ""
             }
            },
            "marker": {
             "colorbar": {
              "outlinewidth": 0,
              "ticks": ""
             }
            },
            "type": "scatter3d"
           }
          ],
          "scattercarpet": [
           {
            "marker": {
             "colorbar": {
              "outlinewidth": 0,
              "ticks": ""
             }
            },
            "type": "scattercarpet"
           }
          ],
          "scattergeo": [
           {
            "marker": {
             "colorbar": {
              "outlinewidth": 0,
              "ticks": ""
             }
            },
            "type": "scattergeo"
           }
          ],
          "scattergl": [
           {
            "marker": {
             "colorbar": {
              "outlinewidth": 0,
              "ticks": ""
             }
            },
            "type": "scattergl"
           }
          ],
          "scattermapbox": [
           {
            "marker": {
             "colorbar": {
              "outlinewidth": 0,
              "ticks": ""
             }
            },
            "type": "scattermapbox"
           }
          ],
          "scatterpolar": [
           {
            "marker": {
             "colorbar": {
              "outlinewidth": 0,
              "ticks": ""
             }
            },
            "type": "scatterpolar"
           }
          ],
          "scatterpolargl": [
           {
            "marker": {
             "colorbar": {
              "outlinewidth": 0,
              "ticks": ""
             }
            },
            "type": "scatterpolargl"
           }
          ],
          "scatterternary": [
           {
            "marker": {
             "colorbar": {
              "outlinewidth": 0,
              "ticks": ""
             }
            },
            "type": "scatterternary"
           }
          ],
          "surface": [
           {
            "colorbar": {
             "outlinewidth": 0,
             "ticks": ""
            },
            "colorscale": [
             [
              0,
              "#0d0887"
             ],
             [
              0.1111111111111111,
              "#46039f"
             ],
             [
              0.2222222222222222,
              "#7201a8"
             ],
             [
              0.3333333333333333,
              "#9c179e"
             ],
             [
              0.4444444444444444,
              "#bd3786"
             ],
             [
              0.5555555555555556,
              "#d8576b"
             ],
             [
              0.6666666666666666,
              "#ed7953"
             ],
             [
              0.7777777777777778,
              "#fb9f3a"
             ],
             [
              0.8888888888888888,
              "#fdca26"
             ],
             [
              1,
              "#f0f921"
             ]
            ],
            "type": "surface"
           }
          ],
          "table": [
           {
            "cells": {
             "fill": {
              "color": "#EBF0F8"
             },
             "line": {
              "color": "white"
             }
            },
            "header": {
             "fill": {
              "color": "#C8D4E3"
             },
             "line": {
              "color": "white"
             }
            },
            "type": "table"
           }
          ]
         },
         "layout": {
          "annotationdefaults": {
           "arrowcolor": "#2a3f5f",
           "arrowhead": 0,
           "arrowwidth": 1
          },
          "autotypenumbers": "strict",
          "coloraxis": {
           "colorbar": {
            "outlinewidth": 0,
            "ticks": ""
           }
          },
          "colorscale": {
           "diverging": [
            [
             0,
             "#8e0152"
            ],
            [
             0.1,
             "#c51b7d"
            ],
            [
             0.2,
             "#de77ae"
            ],
            [
             0.3,
             "#f1b6da"
            ],
            [
             0.4,
             "#fde0ef"
            ],
            [
             0.5,
             "#f7f7f7"
            ],
            [
             0.6,
             "#e6f5d0"
            ],
            [
             0.7,
             "#b8e186"
            ],
            [
             0.8,
             "#7fbc41"
            ],
            [
             0.9,
             "#4d9221"
            ],
            [
             1,
             "#276419"
            ]
           ],
           "sequential": [
            [
             0,
             "#0d0887"
            ],
            [
             0.1111111111111111,
             "#46039f"
            ],
            [
             0.2222222222222222,
             "#7201a8"
            ],
            [
             0.3333333333333333,
             "#9c179e"
            ],
            [
             0.4444444444444444,
             "#bd3786"
            ],
            [
             0.5555555555555556,
             "#d8576b"
            ],
            [
             0.6666666666666666,
             "#ed7953"
            ],
            [
             0.7777777777777778,
             "#fb9f3a"
            ],
            [
             0.8888888888888888,
             "#fdca26"
            ],
            [
             1,
             "#f0f921"
            ]
           ],
           "sequentialminus": [
            [
             0,
             "#0d0887"
            ],
            [
             0.1111111111111111,
             "#46039f"
            ],
            [
             0.2222222222222222,
             "#7201a8"
            ],
            [
             0.3333333333333333,
             "#9c179e"
            ],
            [
             0.4444444444444444,
             "#bd3786"
            ],
            [
             0.5555555555555556,
             "#d8576b"
            ],
            [
             0.6666666666666666,
             "#ed7953"
            ],
            [
             0.7777777777777778,
             "#fb9f3a"
            ],
            [
             0.8888888888888888,
             "#fdca26"
            ],
            [
             1,
             "#f0f921"
            ]
           ]
          },
          "colorway": [
           "#636efa",
           "#EF553B",
           "#00cc96",
           "#ab63fa",
           "#FFA15A",
           "#19d3f3",
           "#FF6692",
           "#B6E880",
           "#FF97FF",
           "#FECB52"
          ],
          "font": {
           "color": "#2a3f5f"
          },
          "geo": {
           "bgcolor": "white",
           "lakecolor": "white",
           "landcolor": "#E5ECF6",
           "showlakes": true,
           "showland": true,
           "subunitcolor": "white"
          },
          "hoverlabel": {
           "align": "left"
          },
          "hovermode": "closest",
          "mapbox": {
           "style": "light"
          },
          "paper_bgcolor": "white",
          "plot_bgcolor": "#E5ECF6",
          "polar": {
           "angularaxis": {
            "gridcolor": "white",
            "linecolor": "white",
            "ticks": ""
           },
           "bgcolor": "#E5ECF6",
           "radialaxis": {
            "gridcolor": "white",
            "linecolor": "white",
            "ticks": ""
           }
          },
          "scene": {
           "xaxis": {
            "backgroundcolor": "#E5ECF6",
            "gridcolor": "white",
            "gridwidth": 2,
            "linecolor": "white",
            "showbackground": true,
            "ticks": "",
            "zerolinecolor": "white"
           },
           "yaxis": {
            "backgroundcolor": "#E5ECF6",
            "gridcolor": "white",
            "gridwidth": 2,
            "linecolor": "white",
            "showbackground": true,
            "ticks": "",
            "zerolinecolor": "white"
           },
           "zaxis": {
            "backgroundcolor": "#E5ECF6",
            "gridcolor": "white",
            "gridwidth": 2,
            "linecolor": "white",
            "showbackground": true,
            "ticks": "",
            "zerolinecolor": "white"
           }
          },
          "shapedefaults": {
           "line": {
            "color": "#2a3f5f"
           }
          },
          "ternary": {
           "aaxis": {
            "gridcolor": "white",
            "linecolor": "white",
            "ticks": ""
           },
           "baxis": {
            "gridcolor": "white",
            "linecolor": "white",
            "ticks": ""
           },
           "bgcolor": "#E5ECF6",
           "caxis": {
            "gridcolor": "white",
            "linecolor": "white",
            "ticks": ""
           }
          },
          "title": {
           "x": 0.05
          },
          "xaxis": {
           "automargin": true,
           "gridcolor": "white",
           "linecolor": "white",
           "ticks": "",
           "title": {
            "standoff": 15
           },
           "zerolinecolor": "white",
           "zerolinewidth": 2
          },
          "yaxis": {
           "automargin": true,
           "gridcolor": "white",
           "linecolor": "white",
           "ticks": "",
           "title": {
            "standoff": 15
           },
           "zerolinecolor": "white",
           "zerolinewidth": 2
          }
         }
        },
        "xaxis": {
         "anchor": "y",
         "domain": [
          0,
          1
         ],
         "title": {
          "text": "cargo"
         }
        },
        "yaxis": {
         "anchor": "x",
         "domain": [
          0,
          1
         ],
         "title": {
          "text": "salarioMensual"
         }
        }
       }
      }
     },
     "metadata": {},
     "output_type": "display_data"
    }
   ],
   "source": [
    "@interact\n",
    "\n",
    "def plot_cargo(cargo = list(dataset.cargo.unique())):\n",
    "    filter_dataset = dataset[dataset.cargo == cargo]\n",
    "\n",
    "    fig = filter_dataset.plot(kind = 'scatter',\n",
    "                              x = 'cargo',\n",
    "                              y = 'salarioMensual',\n",
    "                              color = 'estatus',\n",
    "                              size = 'posicion')\n",
    "    fig.show()"
   ]
  },
  {
   "cell_type": "code",
   "execution_count": 40,
   "metadata": {},
   "outputs": [
    {
     "data": {
      "text/plain": [
       "129"
      ]
     },
     "execution_count": 40,
     "metadata": {},
     "output_type": "execute_result"
    }
   ],
   "source": [
    "dataset.cargo.unique().size"
   ]
  },
  {
   "cell_type": "code",
   "execution_count": null,
   "metadata": {},
   "outputs": [],
   "source": []
  }
 ],
 "metadata": {
  "kernelspec": {
   "display_name": "Python 3",
   "language": "python",
   "name": "python3"
  },
  "language_info": {
   "codemirror_mode": {
    "name": "ipython",
    "version": 3
   },
   "file_extension": ".py",
   "mimetype": "text/x-python",
   "name": "python",
   "nbconvert_exporter": "python",
   "pygments_lexer": "ipython3",
   "version": "3.11.7"
  }
 },
 "nbformat": 4,
 "nbformat_minor": 2
}
