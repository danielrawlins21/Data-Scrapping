{
 "cells": [
  {
   "cell_type": "code",
   "execution_count": 1,
   "metadata": {},
   "outputs": [],
   "source": [
    "import numpy as np \n",
    "import pandas as pd \n",
    "import matplotlib.pyplot as plt \n",
    "import seaborn as sns\n",
    "\n",
    "from wordcloud import WordCloud"
   ]
  },
  {
   "cell_type": "code",
   "execution_count": 4,
   "metadata": {},
   "outputs": [],
   "source": [
    "dataset = pd.read_csv(\"PlanillaC.csv\",sep=';')"
   ]
  },
  {
   "cell_type": "code",
   "execution_count": 5,
   "metadata": {},
   "outputs": [
    {
     "data": {
      "text/html": [
       "<div>\n",
       "<style scoped>\n",
       "    .dataframe tbody tr th:only-of-type {\n",
       "        vertical-align: middle;\n",
       "    }\n",
       "\n",
       "    .dataframe tbody tr th {\n",
       "        vertical-align: top;\n",
       "    }\n",
       "\n",
       "    .dataframe thead th {\n",
       "        text-align: right;\n",
       "    }\n",
       "</style>\n",
       "<table border=\"1\" class=\"dataframe\">\n",
       "  <thead>\n",
       "    <tr style=\"text-align: right;\">\n",
       "      <th></th>\n",
       "      <th>nombre</th>\n",
       "      <th>apellido</th>\n",
       "      <th>genero</th>\n",
       "      <th>posicion</th>\n",
       "      <th>cedula</th>\n",
       "      <th>cargo</th>\n",
       "      <th>codigoCargo</th>\n",
       "      <th>salarioMensual</th>\n",
       "      <th>sobresueldo</th>\n",
       "      <th>inicioLaboral</th>\n",
       "      <th>objetoGastos</th>\n",
       "      <th>estatus</th>\n",
       "    </tr>\n",
       "  </thead>\n",
       "  <tbody>\n",
       "    <tr>\n",
       "      <th>0</th>\n",
       "      <td>AARON JOSUE</td>\n",
       "      <td>MEDINA</td>\n",
       "      <td>M</td>\n",
       "      <td>43192.0</td>\n",
       "      <td>8-0919-00412</td>\n",
       "      <td>ESTADISTICO CENSAL I</td>\n",
       "      <td>41091.0</td>\n",
       "      <td>700.0</td>\n",
       "      <td>0.0</td>\n",
       "      <td>01/08/2023</td>\n",
       "      <td>2.0</td>\n",
       "      <td>EVENTUAL</td>\n",
       "    </tr>\n",
       "    <tr>\n",
       "      <th>1</th>\n",
       "      <td>ABDEL</td>\n",
       "      <td>BATISTA</td>\n",
       "      <td>M</td>\n",
       "      <td>4591.0</td>\n",
       "      <td>9-0712-01688</td>\n",
       "      <td>CONDUCTOR DE VEHICULO   I</td>\n",
       "      <td>6034011.0</td>\n",
       "      <td>837.0</td>\n",
       "      <td>0.0</td>\n",
       "      <td>17/10/2011</td>\n",
       "      <td>1.0</td>\n",
       "      <td>PERMANENTE</td>\n",
       "    </tr>\n",
       "    <tr>\n",
       "      <th>2</th>\n",
       "      <td>ABDEL JABBAR</td>\n",
       "      <td>ARCIA</td>\n",
       "      <td>M</td>\n",
       "      <td>6053.0</td>\n",
       "      <td>8-0806-01206</td>\n",
       "      <td>AUDITOR FISCAL III</td>\n",
       "      <td>55023.0</td>\n",
       "      <td>1198.0</td>\n",
       "      <td>0.0</td>\n",
       "      <td>04/05/2022</td>\n",
       "      <td>1.0</td>\n",
       "      <td>PERMANENTE</td>\n",
       "    </tr>\n",
       "    <tr>\n",
       "      <th>3</th>\n",
       "      <td>ABDIEL</td>\n",
       "      <td>ESPINOSA</td>\n",
       "      <td>M</td>\n",
       "      <td>4785.0</td>\n",
       "      <td>9-0731-00875</td>\n",
       "      <td>ESTADISTICO II</td>\n",
       "      <td>41022.0</td>\n",
       "      <td>1548.0</td>\n",
       "      <td>0.0</td>\n",
       "      <td>16/04/2013</td>\n",
       "      <td>1.0</td>\n",
       "      <td>PERMANENTE</td>\n",
       "    </tr>\n",
       "    <tr>\n",
       "      <th>4</th>\n",
       "      <td>ABDIEL</td>\n",
       "      <td>OLIVARDIA</td>\n",
       "      <td>M</td>\n",
       "      <td>38112.0</td>\n",
       "      <td>8-0718-01099</td>\n",
       "      <td>TECNICO EN REPARACION DE EQUIPO DE  COMUNICACI...</td>\n",
       "      <td>6012310.0</td>\n",
       "      <td>1300.0</td>\n",
       "      <td>0.0</td>\n",
       "      <td>03/01/2023</td>\n",
       "      <td>2.0</td>\n",
       "      <td>EVENTUAL</td>\n",
       "    </tr>\n",
       "  </tbody>\n",
       "</table>\n",
       "</div>"
      ],
      "text/plain": [
       "                 nombre         apellido genero  posicion        cedula  \\\n",
       "0  AARON JOSUE           MEDINA               M   43192.0  8-0919-00412   \n",
       "1  ABDEL                 BATISTA              M    4591.0  9-0712-01688   \n",
       "2  ABDEL JABBAR          ARCIA                M    6053.0  8-0806-01206   \n",
       "3  ABDIEL                ESPINOSA             M    4785.0  9-0731-00875   \n",
       "4  ABDIEL                OLIVARDIA            M   38112.0  8-0718-01099   \n",
       "\n",
       "                                               cargo  codigoCargo  \\\n",
       "0                               ESTADISTICO CENSAL I      41091.0   \n",
       "1                          CONDUCTOR DE VEHICULO   I    6034011.0   \n",
       "2                                 AUDITOR FISCAL III      55023.0   \n",
       "3                                     ESTADISTICO II      41022.0   \n",
       "4  TECNICO EN REPARACION DE EQUIPO DE  COMUNICACI...    6012310.0   \n",
       "\n",
       "   salarioMensual  sobresueldo inicioLaboral  objetoGastos     estatus  \n",
       "0           700.0          0.0    01/08/2023           2.0    EVENTUAL  \n",
       "1           837.0          0.0    17/10/2011           1.0  PERMANENTE  \n",
       "2          1198.0          0.0    04/05/2022           1.0  PERMANENTE  \n",
       "3          1548.0          0.0    16/04/2013           1.0  PERMANENTE  \n",
       "4          1300.0          0.0    03/01/2023           2.0    EVENTUAL  "
      ]
     },
     "execution_count": 5,
     "metadata": {},
     "output_type": "execute_result"
    }
   ],
   "source": [
    "dataset.head()"
   ]
  },
  {
   "cell_type": "code",
   "execution_count": 7,
   "metadata": {},
   "outputs": [
    {
     "name": "stdout",
     "output_type": "stream",
     "text": [
      "Index(['nombre', 'apellido', 'genero', 'posicion', 'cedula', 'cargo',\n",
      "       'codigoCargo', 'salarioMensual', 'sobresueldo', 'inicioLaboral',\n",
      "       'objetoGastos', 'estatus'],\n",
      "      dtype='object')\n"
     ]
    }
   ],
   "source": [
    "print(dataset.columns)"
   ]
  },
  {
   "cell_type": "code",
   "execution_count": 8,
   "metadata": {},
   "outputs": [
    {
     "name": "stdout",
     "output_type": "stream",
     "text": [
      "nombre             object\n",
      "apellido           object\n",
      "genero             object\n",
      "posicion          float64\n",
      "cedula             object\n",
      "cargo              object\n",
      "codigoCargo       float64\n",
      "salarioMensual    float64\n",
      "sobresueldo       float64\n",
      "inicioLaboral      object\n",
      "objetoGastos      float64\n",
      "estatus            object\n",
      "dtype: object\n"
     ]
    }
   ],
   "source": [
    "print(dataset.dtypes)"
   ]
  },
  {
   "cell_type": "code",
   "execution_count": 9,
   "metadata": {},
   "outputs": [
    {
     "data": {
      "text/plain": [
       "array([['AARON JOSUE         ', 'MEDINA         ', 'M', ...,\n",
       "        '01/08/2023', 2.0, 'EVENTUAL'],\n",
       "       ['ABDEL               ', 'BATISTA        ', 'M', ...,\n",
       "        '17/10/2011', 1.0, 'PERMANENTE'],\n",
       "       ['ABDEL JABBAR        ', 'ARCIA          ', 'M', ...,\n",
       "        '04/05/2022', 1.0, 'PERMANENTE'],\n",
       "       ...,\n",
       "       [nan, nan, nan, ..., nan, nan, nan],\n",
       "       [nan, nan, nan, ..., nan, nan, nan],\n",
       "       [nan, nan, nan, ..., nan, nan, nan]], dtype=object)"
      ]
     },
     "execution_count": 9,
     "metadata": {},
     "output_type": "execute_result"
    }
   ],
   "source": [
    "dataset.values"
   ]
  },
  {
   "cell_type": "code",
   "execution_count": 10,
   "metadata": {},
   "outputs": [
    {
     "data": {
      "text/plain": [
       "[RangeIndex(start=0, stop=4838, step=1),\n",
       " Index(['nombre', 'apellido', 'genero', 'posicion', 'cedula', 'cargo',\n",
       "        'codigoCargo', 'salarioMensual', 'sobresueldo', 'inicioLaboral',\n",
       "        'objetoGastos', 'estatus'],\n",
       "       dtype='object')]"
      ]
     },
     "execution_count": 10,
     "metadata": {},
     "output_type": "execute_result"
    }
   ],
   "source": [
    "dataset.axes"
   ]
  },
  {
   "cell_type": "code",
   "execution_count": 14,
   "metadata": {},
   "outputs": [
    {
     "name": "stdout",
     "output_type": "stream",
     "text": [
      "2\n",
      "58056\n",
      "(4838, 12)\n"
     ]
    }
   ],
   "source": [
    "print(dataset.ndim)\n",
    "print(dataset.size)\n",
    "print(dataset.shape)"
   ]
  },
  {
   "cell_type": "code",
   "execution_count": 15,
   "metadata": {},
   "outputs": [
    {
     "data": {
      "text/plain": [
       "'OLIVARDIA      '"
      ]
     },
     "execution_count": 15,
     "metadata": {},
     "output_type": "execute_result"
    }
   ],
   "source": [
    "dataset.at[4,'apellido']"
   ]
  },
  {
   "cell_type": "code",
   "execution_count": 16,
   "metadata": {},
   "outputs": [
    {
     "data": {
      "text/plain": [
       "nombre                                         ABDIEL              \n",
       "apellido                                            OLIVARDIA      \n",
       "genero                                                            M\n",
       "posicion                                                    38112.0\n",
       "cedula                                                 8-0718-01099\n",
       "cargo             TECNICO EN REPARACION DE EQUIPO DE  COMUNICACI...\n",
       "codigoCargo                                               6012310.0\n",
       "salarioMensual                                               1300.0\n",
       "sobresueldo                                                     0.0\n",
       "inicioLaboral                                            03/01/2023\n",
       "objetoGastos                                                    2.0\n",
       "estatus                                                    EVENTUAL\n",
       "Name: 4, dtype: object"
      ]
     },
     "execution_count": 16,
     "metadata": {},
     "output_type": "execute_result"
    }
   ],
   "source": [
    "dataset.loc[4]"
   ]
  },
  {
   "cell_type": "code",
   "execution_count": null,
   "metadata": {},
   "outputs": [],
   "source": []
  }
 ],
 "metadata": {
  "kernelspec": {
   "display_name": "Python 3",
   "language": "python",
   "name": "python3"
  },
  "language_info": {
   "codemirror_mode": {
    "name": "ipython",
    "version": 3
   },
   "file_extension": ".py",
   "mimetype": "text/x-python",
   "name": "python",
   "nbconvert_exporter": "python",
   "pygments_lexer": "ipython3",
   "version": "3.11.7"
  }
 },
 "nbformat": 4,
 "nbformat_minor": 2
}
