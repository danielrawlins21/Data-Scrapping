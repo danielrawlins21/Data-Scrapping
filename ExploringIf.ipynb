{
 "cells": [
  {
   "cell_type": "code",
   "execution_count": 1,
   "metadata": {},
   "outputs": [],
   "source": [
    "import pandas as pd \n",
    "import matplotlib.pyplot as plt \n",
    "import seaborn as sns"
   ]
  },
  {
   "cell_type": "code",
   "execution_count": 10,
   "metadata": {},
   "outputs": [],
   "source": [
    "df = pd.read_excel('PlanillaIfarhu.xlsx')"
   ]
  },
  {
   "cell_type": "code",
   "execution_count": 11,
   "metadata": {},
   "outputs": [
    {
     "data": {
      "text/html": [
       "<div>\n",
       "<style scoped>\n",
       "    .dataframe tbody tr th:only-of-type {\n",
       "        vertical-align: middle;\n",
       "    }\n",
       "\n",
       "    .dataframe tbody tr th {\n",
       "        vertical-align: top;\n",
       "    }\n",
       "\n",
       "    .dataframe thead th {\n",
       "        text-align: right;\n",
       "    }\n",
       "</style>\n",
       "<table border=\"1\" class=\"dataframe\">\n",
       "  <thead>\n",
       "    <tr style=\"text-align: right;\">\n",
       "      <th></th>\n",
       "      <th>Posición</th>\n",
       "      <th>Nombre</th>\n",
       "      <th>Apellido</th>\n",
       "      <th>Género</th>\n",
       "      <th>Cédula</th>\n",
       "      <th>Cargo</th>\n",
       "      <th>Código Cargo</th>\n",
       "      <th>Salario</th>\n",
       "      <th>Sobresueldo</th>\n",
       "      <th>Fecha de inicio</th>\n",
       "      <th>Objeto de Gasto</th>\n",
       "      <th>Estado</th>\n",
       "    </tr>\n",
       "  </thead>\n",
       "  <tbody>\n",
       "    <tr>\n",
       "      <th>0</th>\n",
       "      <td>1</td>\n",
       "      <td>ILEANA</td>\n",
       "      <td>MOLO</td>\n",
       "      <td>F</td>\n",
       "      <td>8-467-535</td>\n",
       "      <td>DIRECTORA GENERAL</td>\n",
       "      <td>11050</td>\n",
       "      <td>5000</td>\n",
       "      <td>0</td>\n",
       "      <td>2019-07-02</td>\n",
       "      <td>1</td>\n",
       "      <td>PERMANENTE</td>\n",
       "    </tr>\n",
       "    <tr>\n",
       "      <th>1</th>\n",
       "      <td>2</td>\n",
       "      <td>ITZENITH J</td>\n",
       "      <td>TAYLOR</td>\n",
       "      <td>F</td>\n",
       "      <td>1-706-2124</td>\n",
       "      <td>SUB-DIRECTORA GENERAL</td>\n",
       "      <td>11060</td>\n",
       "      <td>4000</td>\n",
       "      <td>0</td>\n",
       "      <td>2019-07-02</td>\n",
       "      <td>1</td>\n",
       "      <td>PERMANENTE</td>\n",
       "    </tr>\n",
       "    <tr>\n",
       "      <th>2</th>\n",
       "      <td>5</td>\n",
       "      <td>MARIA DEL P.</td>\n",
       "      <td>DE MARTINEZ</td>\n",
       "      <td>F</td>\n",
       "      <td>8-238-403</td>\n",
       "      <td>ABOGADA III</td>\n",
       "      <td>8011033</td>\n",
       "      <td>2000</td>\n",
       "      <td>0</td>\n",
       "      <td>1991-10-24</td>\n",
       "      <td>1</td>\n",
       "      <td>PERMANENTE</td>\n",
       "    </tr>\n",
       "    <tr>\n",
       "      <th>3</th>\n",
       "      <td>6</td>\n",
       "      <td>LIZETTE</td>\n",
       "      <td>AVILES</td>\n",
       "      <td>F</td>\n",
       "      <td>8-767-1066</td>\n",
       "      <td>DOCUMENTALISTA I</td>\n",
       "      <td>1082011</td>\n",
       "      <td>700</td>\n",
       "      <td>0</td>\n",
       "      <td>2019-09-19</td>\n",
       "      <td>1</td>\n",
       "      <td>PERMANENTE</td>\n",
       "    </tr>\n",
       "    <tr>\n",
       "      <th>4</th>\n",
       "      <td>7</td>\n",
       "      <td>MAYLENI</td>\n",
       "      <td>CEDEÑO</td>\n",
       "      <td>F</td>\n",
       "      <td>4-240-911</td>\n",
       "      <td>ABOGADO I</td>\n",
       "      <td>8011031</td>\n",
       "      <td>1700</td>\n",
       "      <td>0</td>\n",
       "      <td>2019-10-14</td>\n",
       "      <td>1</td>\n",
       "      <td>PERMANENTE</td>\n",
       "    </tr>\n",
       "    <tr>\n",
       "      <th>5</th>\n",
       "      <td>8</td>\n",
       "      <td>BRAYANN</td>\n",
       "      <td>BEJARANO</td>\n",
       "      <td>M</td>\n",
       "      <td>4-756-880</td>\n",
       "      <td>OFICINISTA II</td>\n",
       "      <td>93022</td>\n",
       "      <td>600</td>\n",
       "      <td>0</td>\n",
       "      <td>2020-07-28</td>\n",
       "      <td>1</td>\n",
       "      <td>PERMANENTE</td>\n",
       "    </tr>\n",
       "    <tr>\n",
       "      <th>6</th>\n",
       "      <td>9</td>\n",
       "      <td>IDALIDES</td>\n",
       "      <td>GUERRA</td>\n",
       "      <td>F</td>\n",
       "      <td>5-705-191</td>\n",
       "      <td>MENSAJERO INTERNO</td>\n",
       "      <td>94010</td>\n",
       "      <td>600</td>\n",
       "      <td>0</td>\n",
       "      <td>2020-02-13</td>\n",
       "      <td>1</td>\n",
       "      <td>PERMANENTE</td>\n",
       "    </tr>\n",
       "    <tr>\n",
       "      <th>7</th>\n",
       "      <td>13</td>\n",
       "      <td>SORYINI</td>\n",
       "      <td>GARAY</td>\n",
       "      <td>F</td>\n",
       "      <td>3-722-2457</td>\n",
       "      <td>COTIZADOR DE PRECIOS I</td>\n",
       "      <td>82011</td>\n",
       "      <td>737</td>\n",
       "      <td>0</td>\n",
       "      <td>2019-10-28</td>\n",
       "      <td>1</td>\n",
       "      <td>PERMANENTE</td>\n",
       "    </tr>\n",
       "    <tr>\n",
       "      <th>8</th>\n",
       "      <td>15</td>\n",
       "      <td>GRACIELA</td>\n",
       "      <td>SALAS</td>\n",
       "      <td>F</td>\n",
       "      <td>8-238-1841</td>\n",
       "      <td>SECRETARIA III</td>\n",
       "      <td>91013</td>\n",
       "      <td>600</td>\n",
       "      <td>0</td>\n",
       "      <td>1993-03-24</td>\n",
       "      <td>1</td>\n",
       "      <td>PERMANENTE</td>\n",
       "    </tr>\n",
       "    <tr>\n",
       "      <th>9</th>\n",
       "      <td>19</td>\n",
       "      <td>YADIRA</td>\n",
       "      <td>BERNAL</td>\n",
       "      <td>F</td>\n",
       "      <td>7-93-2172</td>\n",
       "      <td>COCINERO I</td>\n",
       "      <td>2062021</td>\n",
       "      <td>600</td>\n",
       "      <td>0</td>\n",
       "      <td>2004-10-18</td>\n",
       "      <td>1</td>\n",
       "      <td>PERMANENTE</td>\n",
       "    </tr>\n",
       "  </tbody>\n",
       "</table>\n",
       "</div>"
      ],
      "text/plain": [
       "   Posición        Nombre     Apellido Género      Cédula  \\\n",
       "0         1        ILEANA         MOLO      F   8-467-535   \n",
       "1         2    ITZENITH J       TAYLOR      F  1-706-2124   \n",
       "2         5  MARIA DEL P.  DE MARTINEZ      F   8-238-403   \n",
       "3         6       LIZETTE       AVILES      F  8-767-1066   \n",
       "4         7       MAYLENI       CEDEÑO      F   4-240-911   \n",
       "5         8       BRAYANN     BEJARANO      M   4-756-880   \n",
       "6         9      IDALIDES       GUERRA      F   5-705-191   \n",
       "7        13       SORYINI        GARAY      F  3-722-2457   \n",
       "8        15      GRACIELA        SALAS      F  8-238-1841   \n",
       "9        19        YADIRA       BERNAL      F   7-93-2172   \n",
       "\n",
       "                    Cargo  Código Cargo  Salario  Sobresueldo Fecha de inicio  \\\n",
       "0      DIRECTORA GENERAL          11050     5000            0      2019-07-02   \n",
       "1   SUB-DIRECTORA GENERAL         11060     4000            0      2019-07-02   \n",
       "2             ABOGADA III       8011033     2000            0      1991-10-24   \n",
       "3        DOCUMENTALISTA I       1082011      700            0      2019-09-19   \n",
       "4               ABOGADO I       8011031     1700            0      2019-10-14   \n",
       "5           OFICINISTA II         93022      600            0      2020-07-28   \n",
       "6       MENSAJERO INTERNO         94010      600            0      2020-02-13   \n",
       "7  COTIZADOR DE PRECIOS I         82011      737            0      2019-10-28   \n",
       "8          SECRETARIA III         91013      600            0      1993-03-24   \n",
       "9              COCINERO I       2062021      600            0      2004-10-18   \n",
       "\n",
       "   Objeto de Gasto      Estado  \n",
       "0                1  PERMANENTE  \n",
       "1                1  PERMANENTE  \n",
       "2                1  PERMANENTE  \n",
       "3                1  PERMANENTE  \n",
       "4                1  PERMANENTE  \n",
       "5                1  PERMANENTE  \n",
       "6                1  PERMANENTE  \n",
       "7                1  PERMANENTE  \n",
       "8                1  PERMANENTE  \n",
       "9                1  PERMANENTE  "
      ]
     },
     "execution_count": 11,
     "metadata": {},
     "output_type": "execute_result"
    }
   ],
   "source": [
    "df.head(10)"
   ]
  },
  {
   "cell_type": "code",
   "execution_count": 14,
   "metadata": {},
   "outputs": [
    {
     "data": {
      "text/plain": [
       "(919, 12)"
      ]
     },
     "execution_count": 14,
     "metadata": {},
     "output_type": "execute_result"
    }
   ],
   "source": [
    "df.shape"
   ]
  },
  {
   "cell_type": "code",
   "execution_count": 15,
   "metadata": {},
   "outputs": [],
   "source": [
    "import pygwalker as pyg"
   ]
  },
  {
   "cell_type": "code",
   "execution_count": 16,
   "metadata": {},
   "outputs": [
    {
     "data": {
      "application/vnd.jupyter.widget-view+json": {
       "model_id": "f56d15c1da0f4c4598a68e2f2a3ccad8",
       "version_major": 2,
       "version_minor": 0
      },
      "text/plain": [
       "Box(children=(HTML(value='<div id=\"ifr-pyg-0\" style=\"height: auto\">\\n    <head>\\n        <meta http-equiv=\"Con…"
      ]
     },
     "metadata": {},
     "output_type": "display_data"
    },
    {
     "data": {
      "text/html": [],
      "text/plain": [
       "<IPython.core.display.HTML object>"
      ]
     },
     "metadata": {},
     "output_type": "display_data"
    }
   ],
   "source": [
    "gwalker = pyg.walk(df)"
   ]
  },
  {
   "cell_type": "code",
   "execution_count": null,
   "metadata": {},
   "outputs": [],
   "source": []
  }
 ],
 "metadata": {
  "kernelspec": {
   "display_name": "Python 3",
   "language": "python",
   "name": "python3"
  },
  "language_info": {
   "codemirror_mode": {
    "name": "ipython",
    "version": 3
   },
   "file_extension": ".py",
   "mimetype": "text/x-python",
   "name": "python",
   "nbconvert_exporter": "python",
   "pygments_lexer": "ipython3",
   "version": "3.11.7"
  }
 },
 "nbformat": 4,
 "nbformat_minor": 2
}
